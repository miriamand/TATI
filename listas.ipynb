{
 "cells": [
  {
   "attachments": {},
   "cell_type": "markdown",
   "metadata": {},
   "source": [
    "# Listas\n",
    "Son un tipo de dato compuesto de varios elementos, estos pueden ser caracteres numéricos o inclusive de otros tipos. cada elemento de la lista es accesible gracias a su índice.\n",
    "```Python\n",
    "lista_de_compras = [\"Huevos\", \"Leche\", \"Queso\", \"Jabón\"]\n",
    "```"
   ]
  },
  {
   "cell_type": "code",
   "execution_count": null,
   "metadata": {},
   "outputs": [],
   "source": [
    "lista = [\"hello\", \"world\"]\n",
    "print(lista)"
   ]
  },
  {
   "attachments": {},
   "cell_type": "markdown",
   "metadata": {},
   "source": [
    "## Índice"
   ]
  },
  {
   "cell_type": "code",
   "execution_count": 1,
   "metadata": {},
   "outputs": [
    {
     "name": "stdout",
     "output_type": "stream",
     "text": [
      "Los trabajadores son Pedro, Andrea y Juan.\n"
     ]
    }
   ],
   "source": [
    "nombres = [\"Pedro\", \"Andrea\", \"Juan\"]\n",
    "\n",
    "print(\"Los trabajadores son {0}, {1} y {2}.\".format(nombres[0], nombres[1], nombres[2]))"
   ]
  },
  {
   "attachments": {},
   "cell_type": "markdown",
   "metadata": {},
   "source": [
    "## Mutabilidad\n",
    "Las listas tienen la característica de permitirnos modificar el valor de alguno de sus elementos. Esto se llama mutabilidad y es importente distinguir entre objetos mutables, como las listas y otros objetos inmutables.\n",
    "```Python\n",
    "lista_de_precios[1] = 65\n",
    "```"
   ]
  },
  {
   "cell_type": "code",
   "execution_count": 3,
   "metadata": {},
   "outputs": [
    {
     "name": "stdout",
     "output_type": "stream",
     "text": [
      "[10, 50, 30]\n"
     ]
    }
   ],
   "source": [
    "lista_de_precios = [10, 20, 30]\n",
    "lista_de_precios[1] = 50\n",
    "print(lista_de_precios)"
   ]
  },
  {
   "attachments": {},
   "cell_type": "markdown",
   "metadata": {},
   "source": [
    "# Métodos de las listas\n",
    "```Python\n",
    "list(range(0, 9, 1))\n",
    "```"
   ]
  },
  {
   "cell_type": "code",
   "execution_count": 23,
   "metadata": {},
   "outputs": [
    {
     "name": "stdout",
     "output_type": "stream",
     "text": [
      "[1, 3, 5, 7, 9]\n",
      "[1, 3, 5, 7, 9, 8]\n",
      "[1, 3, 5, 7, 9, 8, 2, 3]\n",
      "6\n",
      "False\n",
      "[2, 2, 5, 7, 9, 8]\n",
      "[[2, 2, 5, 7, 9, 8], [3, 6, 7, 8], [6, 9, 12, 15, 18, 21, 24, 27]]\n"
     ]
    }
   ],
   "source": [
    "lista = list(range(1, 10, 2))\n",
    "print(lista)\n",
    "lista.append(8)\n",
    "print(lista)\n",
    "print(lista + [2,3])\n",
    "print(len(lista))\n",
    "print(2 in lista)\n",
    "lista[:2] = [2, 2]\n",
    "print(lista)\n",
    "lista2 = [3, 6, 7, 8]\n",
    "lista3 = list(range(6, 30, 3))\n",
    "print([lista, lista2, lista3])"
   ]
  }
 ],
 "metadata": {
  "kernelspec": {
   "display_name": "Python 3",
   "language": "python",
   "name": "python3"
  },
  "language_info": {
   "codemirror_mode": {
    "name": "ipython",
    "version": 3
   },
   "file_extension": ".py",
   "mimetype": "text/x-python",
   "name": "python",
   "nbconvert_exporter": "python",
   "pygments_lexer": "ipython3",
   "version": "3.9.16"
  },
  "orig_nbformat": 4
 },
 "nbformat": 4,
 "nbformat_minor": 2
}
