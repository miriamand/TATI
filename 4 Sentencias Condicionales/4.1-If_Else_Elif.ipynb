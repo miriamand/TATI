{
 "cells": [
  {
   "attachments": {},
   "cell_type": "markdown",
   "metadata": {},
   "source": [
    "# 4.1 If/Else/Elif: Sentencias Condicionales\n",
    "En python existen las sentencias condicionales, estas nos permiten dividir el flujo de un programa en diferentes caminos.\n",
    "Para realizar esto, se define un bloque de instrucciones que se ejecutarán solo si la condición previa se cumple, es decir, que sea verdadera (True)."
   ]
  },
  {
   "cell_type": "code",
   "execution_count": 6,
   "metadata": {},
   "outputs": [
    {
     "name": "stdout",
     "output_type": "stream",
     "text": [
      "Hola Mundo\n"
     ]
    }
   ],
   "source": [
    "if(False==0):\n",
    "    print(\"Hola Mundo\")"
   ]
  },
  {
   "cell_type": "code",
   "execution_count": 10,
   "metadata": {},
   "outputs": [
    {
     "name": "stdout",
     "output_type": "stream",
     "text": [
      "x vale 5\n"
     ]
    }
   ],
   "source": [
    "x = 5\n",
    "\n",
    "if (x==5):\n",
    "    print(\"x vale 5\")"
   ]
  },
  {
   "cell_type": "code",
   "execution_count": 11,
   "metadata": {},
   "outputs": [
    {
     "name": "stdout",
     "output_type": "stream",
     "text": [
      "x vale 5\n"
     ]
    }
   ],
   "source": [
    "if x == 2:\n",
    "    print('x vale 2')\n",
    "if (x==5):\n",
    "    print(\"x vale 5\")"
   ]
  },
  {
   "attachments": {},
   "cell_type": "markdown",
   "metadata": {},
   "source": [
    "Podemos escribir varios *if* anidados respetando la identación."
   ]
  },
  {
   "cell_type": "code",
   "execution_count": 16,
   "metadata": {},
   "outputs": [
    {
     "name": "stdout",
     "output_type": "stream",
     "text": [
      "14 es a\n",
      "6 es b\n"
     ]
    }
   ],
   "source": [
    "a = 14\n",
    "b = 6\n",
    "\n",
    "if a==14:\n",
    "    print(\"{} es a\".format(a))\n",
    "    if b==6:\n",
    "        print(\"{} es b\".format(b))"
   ]
  },
  {
   "attachments": {},
   "cell_type": "markdown",
   "metadata": {},
   "source": [
    "Tambien se pueden incluir en estas sentencias operadores lógicos para aumentar su eficiencia y legibilidad."
   ]
  },
  {
   "cell_type": "code",
   "execution_count": 17,
   "metadata": {},
   "outputs": [
    {
     "name": "stdout",
     "output_type": "stream",
     "text": [
      "14 es a y 6 es b\n"
     ]
    }
   ],
   "source": [
    "if a == 14 and b == 6:\n",
    "    print(\"{} es a y {} es b\".format(a,b))"
   ]
  },
  {
   "attachments": {},
   "cell_type": "markdown",
   "metadata": {},
   "source": [
    "## Else y Elif\n",
    "\n",
    "**Else** (si no) se encadena al final del bloque para abrir una nueva lista de instrucciones. Este nos permite definir el camino que se ejecuta si la condición original no se cumple. \n",
    "\n",
    "**Elif** (si no si) establece una nueva condición que se encadena a otro *if* o *elif* cuya condición resulto False(no se cumpli'o).\n",
    "Esto nos permite establecer múltiples condiciones para lidiar con las posibles entradas que el programa pueda recibir.\n",
    "\n"
   ]
  },
  {
   "cell_type": "code",
   "execution_count": 20,
   "metadata": {},
   "outputs": [
    {
     "name": "stdout",
     "output_type": "stream",
     "text": [
      "11 es numero impar\n"
     ]
    }
   ],
   "source": [
    "z = 11\n",
    "if 10 % 2:\n",
    "    print(z,\"es numero par\")\n",
    "else:\n",
    "    print(z,\"es numero impar\")"
   ]
  },
  {
   "cell_type": "code",
   "execution_count": 22,
   "metadata": {},
   "outputs": [
    {
     "name": "stdout",
     "output_type": "stream",
     "text": [
      "No entendi\n"
     ]
    }
   ],
   "source": [
    "# Respuestas Din'amicas\n",
    "\n",
    "texto = input(\"Que deseas a hacer?:\\n\").upper()\n",
    "\n",
    "if texto == \"SALUDAR\":\n",
    "    print(\"Buen Dia\")\n",
    "elif texto == \"SALIR\":\n",
    "    print(\"Hasta Luego\")\n",
    "else:\n",
    "    print(\"No entendí\")"
   ]
  },
  {
   "cell_type": "code",
   "execution_count": 24,
   "metadata": {},
   "outputs": [
    {
     "name": "stdout",
     "output_type": "stream",
     "text": [
      "Excelente\n"
     ]
    }
   ],
   "source": [
    "# Clasificador\n",
    "puntaje = float(input(\"Introduce la calificación:\\n\"))\n",
    "\n",
    "if puntaje >=9:\n",
    "    print(\"Excelente\")\n",
    "elif puntaje >=7:\n",
    "    print(\"Buen desempeño\")\n",
    "elif puntaje >=5:\n",
    "    print(\"Aprobado\")\n",
    "else:\n",
    "    print(\"Puntaje reprobado\")\n"
   ]
  }
 ],
 "metadata": {
  "kernelspec": {
   "display_name": "Python 3",
   "language": "python",
   "name": "python3"
  },
  "language_info": {
   "codemirror_mode": {
    "name": "ipython",
    "version": 3
   },
   "file_extension": ".py",
   "mimetype": "text/x-python",
   "name": "python",
   "nbconvert_exporter": "python",
   "pygments_lexer": "ipython3",
   "version": "3.11.3"
  },
  "orig_nbformat": 4
 },
 "nbformat": 4,
 "nbformat_minor": 2
}
