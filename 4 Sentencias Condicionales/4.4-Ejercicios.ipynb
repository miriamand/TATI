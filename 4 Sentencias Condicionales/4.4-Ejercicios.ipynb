{
 "cells": [
  {
   "attachments": {},
   "cell_type": "markdown",
   "metadata": {},
   "source": [
    "# 4.4 Ejercicios\n",
    "**1) Realiza un programa que lea 2 números y permite elegir 3 opciones del menú**\n",
    "- Mostrar la suma de 2 números\n",
    "- Mostrar la resta de 2 números(el primero menos el segundo)\n",
    "- Mostrar multiplicación de 2 números\n",
    "Si se ingresa una opcion inválida, el programa informará que es incorrecto.\n",
    "\n"
   ]
  },
  {
   "cell_type": "code",
   "execution_count": 13,
   "metadata": {},
   "outputs": [
    {
     "name": "stdout",
     "output_type": "stream",
     "text": [
      "Escogiste el 4 de opción\n",
      "Adiós\n"
     ]
    }
   ],
   "source": [
    "n1 = float(input(\"Escribe un número\"))\n",
    "n2 = float(input(\"Escribe otro número\"))\n",
    "seguir = True \n",
    "\n",
    "while seguir:\n",
    "\n",
    "    opcion = input(f\"\"\"Escoge que hacer:\n",
    "    1) Sumar los números\n",
    "    2) Restar los números\n",
    "    3) Multiplicar los números\n",
    "    4) Salir\"\"\")\n",
    "\n",
    "    print(\"Escogiste el\",opcion, \"de opción\")\n",
    "\n",
    "    if opcion == \"1\":\n",
    "        print (\"La suma de\",n1, \"+\", n2, \"es\", n1+n2)\n",
    "    elif opcion == \"2\":\n",
    "        print(\"La resta de\",n1, \"-\", n2, \"es\", n1-n2)\n",
    "    elif opcion == \"3\":\n",
    "        print(\"La multiplicación de\",n1, \"x\", n2, \"es\", n1*n2)\n",
    "    elif opcion == \"4\":\n",
    "        seguir=False\n",
    "        print(\"Adiós\")\n",
    "    else:\n",
    "        print(\"Opcion incorrecta\")"
   ]
  },
  {
   "attachments": {},
   "cell_type": "markdown",
   "metadata": {},
   "source": [
    "\n",
    "**2) Dada una lista de *strings* (cadenas de caracteres), haga que el programa:**\n",
    "- Detecte el n'umero de strings que tienen una longitud de 2 o m'as caracteres y cuyo primer y ultimo caracter son iguales.\n",
    "- Una lista nueva con s'olo estos strings.\n"
   ]
  },
  {
   "cell_type": "code",
   "execution_count": 20,
   "metadata": {},
   "outputs": [
    {
     "data": {
      "text/plain": [
       "['avila', 'este', 'narracion']"
      ]
     },
     "execution_count": 20,
     "metadata": {},
     "output_type": "execute_result"
    }
   ],
   "source": [
    "lista = ['avila','cafe','este','narracion','buda','extra','salida']\n",
    "lista2 = []\n",
    "suma = 0\n",
    "\n",
    "for i in lista:\n",
    "    if (len(i) >= 2 and i[0] == i[-1] ):\n",
    "        lista2.append(i) \n",
    "\n",
    "lista2"
   ]
  },
  {
   "attachments": {},
   "cell_type": "markdown",
   "metadata": {},
   "source": [
    "**3) Realiza un programa que pida un un número impar. Si el usuario no ingresa un número impar, debe repetirse el proceso hasta que ingrese uno valido.**\n",
    "Los números incorrectos se guarden en una lista y al final mostrarla junto al número impar."
   ]
  },
  {
   "cell_type": "code",
   "execution_count": 17,
   "metadata": {},
   "outputs": [
    {
     "name": "stdout",
     "output_type": "stream",
     "text": [
      "los números incorrectos ingresados [2.0, 4.0, 6.0, 8.0, 10.0, 12.0] e ingresaste el número 5.0\n"
     ]
    }
   ],
   "source": [
    "pares = []\n",
    "seguir = True\n",
    "\n",
    "while seguir:\n",
    "\n",
    "    valor=float(input(\"Escribe un número\"))\n",
    "\n",
    "    if valor % 2 == 0:\n",
    "        pares.append(valor)\n",
    "\n",
    "    else:\n",
    "        print(\"los números incorrectos ingresados\",pares,\"e ingresaste el número\", valor)\n",
    "        seguir = False"
   ]
  },
  {
   "attachments": {},
   "cell_type": "markdown",
   "metadata": {},
   "source": [
    "**4) Realiza un programa que sume todos los números enteros pares desde el 0 hasta el 100**\n",
    "    Nota: utilizar funciones sum() y range(). El tercer parámetro de range(unicio,fin,salto) indica el incremento los valores de rango"
   ]
  },
  {
   "cell_type": "code",
   "execution_count": 23,
   "metadata": {},
   "outputs": [
    {
     "data": {
      "text/plain": [
       "2550"
      ]
     },
     "execution_count": 23,
     "metadata": {},
     "output_type": "execute_result"
    }
   ],
   "source": [
    "total = sum(range(0,101,2))\n",
    "total"
   ]
  },
  {
   "attachments": {},
   "cell_type": "markdown",
   "metadata": {},
   "source": [
    "**4) Realiza un programa que pregunte al usuario cuántos numeros quiere introducir. Luego debe leer todos los numeros y obtener la media aritmética**"
   ]
  },
  {
   "cell_type": "code",
   "execution_count": null,
   "metadata": {},
   "outputs": [],
   "source": []
  },
  {
   "cell_type": "code",
   "execution_count": 39,
   "metadata": {},
   "outputs": [
    {
     "name": "stdout",
     "output_type": "stream",
     "text": [
      "El promedio es 4.0\n"
     ]
    }
   ],
   "source": [
    "numeros= int(input(\"Cuántos numeros quieres escribir\"))\n",
    "\n",
    "suma = 0\n",
    "\n",
    "for i in range(numeros):\n",
    "    numero = float(input(\"Escribe el numero\"))\n",
    "    suma += numero\n",
    "\n",
    "print(\"El promedio es\", suma/numero)\n"
   ]
  },
  {
   "attachments": {},
   "cell_type": "markdown",
   "metadata": {},
   "source": [
    "**5) Realiza un programa que pregunte al usuario un numero entero entre el 0-9, mientras sea correcto el ciclo se repita. Luego se debe comprobar si el numero en la lista de numeros [0,1,3,5,8] y notificarlo**"
   ]
  },
  {
   "cell_type": "code",
   "execution_count": 57,
   "metadata": {},
   "outputs": [
    {
     "name": "stdout",
     "output_type": "stream",
     "text": [
      "El número no está\n"
     ]
    }
   ],
   "source": [
    "numero = 0\n",
    "lista = [0,1,3,5,8]\n",
    "\n",
    "while numero>=0 and numero<=9:\n",
    "    numero = int(input(\"Adivina el numero de 0 - 9 \"))  \n",
    "    if numero in lista:\n",
    "        print(\"Adivinaste el numero\", numero)\n",
    "    else:\n",
    "        print(\"El número no está\")\n",
    "    \n",
    "\n"
   ]
  },
  {
   "attachments": {},
   "cell_type": "markdown",
   "metadata": {},
   "source": [
    "**5)Utilizando la funci'on range() y la conversion a listas, genera las siguientes listas din'amicamente:**\n",
    "- Todos los numeros del 0 - 10\n",
    "- Todos los numeros del -10 - 0\n",
    "- Todos los numeros pares entre 0 - 20\n",
    "- Todos los numeros impares entre el -20 - 0\n",
    "- Todos los numeros multiplos de 5 del 0 - 50\n",
    "\n"
   ]
  },
  {
   "cell_type": "code",
   "execution_count": 14,
   "metadata": {},
   "outputs": [
    {
     "name": "stdout",
     "output_type": "stream",
     "text": [
      "[0, 1, 2, 3, 4, 5, 6, 7, 8, 9, 10]\n",
      "[-10, -9, -8, -7, -6, -5, -4, -3, -2, -1, 0]\n",
      "[0, 2, 4, 6, 8, 10, 12, 14, 16, 18, 20]\n",
      "[-19, -17, -15, -13, -11, -9, -7, -5, -3, -1]\n",
      "[0, 5, 10, 15, 20, 25, 30, 35, 40, 45, 50]\n"
     ]
    }
   ],
   "source": [
    "print(list(range(0,11)))\n",
    "print(list(range(-10,1)))\n",
    "print(list(range(0,21,2)))\n",
    "print(list(range(-19,1,2)))\n",
    "print(list(range(0,51,5)))\n",
    "\n",
    "\n",
    "\n"
   ]
  },
  {
   "attachments": {},
   "cell_type": "markdown",
   "metadata": {},
   "source": [
    "**8)Dadas 2 listas, se debe generar una tercer lista con todos los elementos que se repitan en ellas, pero no se debe repetir ning'un elemento en la nueva lista**"
   ]
  },
  {
   "cell_type": "code",
   "execution_count": 36,
   "metadata": {},
   "outputs": [
    {
     "name": "stdout",
     "output_type": "stream",
     "text": [
      "['', 'g', 'i', 'o', 'm', 'a']\n"
     ]
    }
   ],
   "source": [
    "lista1 = [\"M\",\"i\",\"a\",\"m\",\"i\",\"g\",\"o\",\"\",'G',\"a\",\"l\",\"i\",\"l\",\"e\",\"o\"]\n",
    "lista2 = [\"T\",\"u\",\"\",\"a\",\"m\",\"i\",\"g\",\"u\",\"i\",\"t\",\"o\"]\n",
    "repetidos = set()\n",
    "\n",
    "for elemento in lista1:\n",
    "    if elemento in lista2 and elemento not in repetidos:\n",
    "      repetidos.add(elemento)\n",
    "      \n",
    "lista3 = list(repetidos)\n",
    "\n",
    "print(lista3)\n",
    "\n",
    "\n"
   ]
  },
  {
   "cell_type": "code",
   "execution_count": null,
   "metadata": {},
   "outputs": [],
   "source": []
  }
 ],
 "metadata": {
  "kernelspec": {
   "display_name": "Python 3",
   "language": "python",
   "name": "python3"
  },
  "language_info": {
   "codemirror_mode": {
    "name": "ipython",
    "version": 3
   },
   "file_extension": ".py",
   "mimetype": "text/x-python",
   "name": "python",
   "nbconvert_exporter": "python",
   "pygments_lexer": "ipython3",
   "version": "3.11.3"
  },
  "orig_nbformat": 4
 },
 "nbformat": 4,
 "nbformat_minor": 2
}
