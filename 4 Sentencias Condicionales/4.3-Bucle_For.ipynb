{
 "cells": [
  {
   "attachments": {},
   "cell_type": "markdown",
   "metadata": {},
   "source": [
    "# 4.2 Bucle For\n",
    "**For** es un bucle que se repite un número determinado de veces.\n",
    " \n",
    "Los objetos iterables pueden ser listas, cadenas de texto,etc...\n"
   ]
  },
  {
   "cell_type": "code",
   "execution_count": 6,
   "metadata": {},
   "outputs": [],
   "source": [
    "nums = [1,2,3,4,5,6,7,8,9,10]\n",
    "idx = 0"
   ]
  },
  {
   "cell_type": "code",
   "execution_count": 7,
   "metadata": {},
   "outputs": [
    {
     "name": "stdout",
     "output_type": "stream",
     "text": [
      "Bucle While\n",
      "1\n",
      "2\n",
      "3\n",
      "4\n",
      "5\n",
      "6\n",
      "7\n",
      "8\n",
      "9\n",
      "10\n"
     ]
    }
   ],
   "source": [
    "print(\"Bucle While\")\n",
    "while idx < len(nums):\n",
    "    print(nums[idx])\n",
    "    idx += 1 "
   ]
  },
  {
   "cell_type": "code",
   "execution_count": 8,
   "metadata": {},
   "outputs": [
    {
     "name": "stdout",
     "output_type": "stream",
     "text": [
      "Bucle For\n",
      "1\n",
      "2\n",
      "3\n",
      "4\n",
      "5\n",
      "6\n",
      "7\n",
      "8\n",
      "9\n",
      "10\n"
     ]
    }
   ],
   "source": [
    "print(\"Bucle For\")\n",
    "for i in nums:\n",
    "    print(i)"
   ]
  },
  {
   "attachments": {},
   "cell_type": "markdown",
   "metadata": {},
   "source": [
    "Ya que las listas son mutables por\n"
   ]
  },
  {
   "attachments": {},
   "cell_type": "markdown",
   "metadata": {},
   "source": [
    "Podemos recorrer una cadena de texto."
   ]
  },
  {
   "cell_type": "code",
   "execution_count": 9,
   "metadata": {},
   "outputs": [
    {
     "name": "stdout",
     "output_type": "stream",
     "text": [
      "H\n",
      "o\n",
      "l\n",
      "a\n",
      ",\n",
      " \n",
      "b\n",
      "u\n",
      "e\n",
      "n\n",
      "o\n",
      "s\n",
      " \n",
      "d\n",
      "i\n",
      "a\n",
      "s\n"
     ]
    }
   ],
   "source": [
    "text = \"Hola, buenos dias\"\n",
    "\n",
    "for car in text:\n",
    "    print(car)"
   ]
  },
  {
   "cell_type": "code",
   "execution_count": 15,
   "metadata": {},
   "outputs": [
    {
     "name": "stdout",
     "output_type": "stream",
     "text": [
      "Hola, buenos dias \n",
      " .................\n"
     ]
    }
   ],
   "source": [
    "text_2 = \"\"\n",
    "for car in text:\n",
    "    text_2 += \".\"\n",
    "\n",
    "print(text,\"\\n\", text_2)"
   ]
  },
  {
   "cell_type": "code",
   "execution_count": 16,
   "metadata": {},
   "outputs": [
    {
     "data": {
      "text/plain": [
       "'HHHooolllaaa,,,   bbbuuueeennnooosss   dddiiiaaasss'"
      ]
     },
     "execution_count": 16,
     "metadata": {},
     "output_type": "execute_result"
    }
   ],
   "source": [
    "text_3 = \"\"\n",
    "for car in text:\n",
    "    text_3 += car*3\n",
    "\n",
    "text_3"
   ]
  },
  {
   "attachments": {},
   "cell_type": "markdown",
   "metadata": {},
   "source": [
    "**NOTA**\n",
    "range() genera la secuencia de números enteros definida por el usuario."
   ]
  },
  {
   "cell_type": "code",
   "execution_count": 19,
   "metadata": {},
   "outputs": [
    {
     "name": "stdout",
     "output_type": "stream",
     "text": [
      "0\n",
      "1\n",
      "2\n",
      "3\n",
      "4\n",
      "5\n",
      "6\n",
      "7\n",
      "8\n",
      "9\n"
     ]
    }
   ],
   "source": [
    "for i in range(10):\n",
    "    print(i)"
   ]
  },
  {
   "cell_type": "code",
   "execution_count": 24,
   "metadata": {},
   "outputs": [
    {
     "name": "stdout",
     "output_type": "stream",
     "text": [
      "-5\n",
      "5\n",
      "15\n",
      "25\n",
      "35\n",
      "45\n"
     ]
    }
   ],
   "source": [
    "for i in range(-5, 50, 10):\n",
    "    print(i)"
   ]
  },
  {
   "cell_type": "code",
   "execution_count": 25,
   "metadata": {},
   "outputs": [
    {
     "name": "stdout",
     "output_type": "stream",
     "text": [
      "[0, 1, 2, 3, 4] 0\n",
      "[0, 1, 2, 3, 4] 1\n",
      "[0, 1, 2, 3, 4] 2\n",
      "[0, 1, 2, 3, 4] 3\n",
      "[0, 1, 2, 3, 4] 4\n"
     ]
    }
   ],
   "source": [
    "lista = list(range(5))\n",
    "\n",
    "for i in lista:\n",
    "    print (lista, i)"
   ]
  },
  {
   "cell_type": "code",
   "execution_count": 26,
   "metadata": {},
   "outputs": [
    {
     "name": "stdout",
     "output_type": "stream",
     "text": [
      "range(0, 5) 0\n",
      "range(0, 5) 1\n",
      "range(0, 5) 2\n",
      "range(0, 5) 3\n",
      "range(0, 5) 4\n"
     ]
    }
   ],
   "source": [
    "for i in range(5):\n",
    "    print(range(5),i)"
   ]
  }
 ],
 "metadata": {
  "kernelspec": {
   "display_name": "Python 3",
   "language": "python",
   "name": "python3"
  },
  "language_info": {
   "codemirror_mode": {
    "name": "ipython",
    "version": 3
   },
   "file_extension": ".py",
   "mimetype": "text/x-python",
   "name": "python",
   "nbconvert_exporter": "python",
   "pygments_lexer": "ipython3",
   "version": "3.11.3"
  },
  "orig_nbformat": 4
 },
 "nbformat": 4,
 "nbformat_minor": 2
}
