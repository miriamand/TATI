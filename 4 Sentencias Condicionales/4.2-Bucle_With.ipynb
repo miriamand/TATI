{
 "cells": [
  {
   "attachments": {},
   "cell_type": "markdown",
   "metadata": {},
   "source": [
    "# 4.2 Bucle While\n",
    "Un **bucle** es una secuencia que ejecuta una accion varias veces hasta que la condici'on asignada al bucle deja de cumplirse. Cada nueva ejecuci'on de la secuencia se denomina iteraci'on.\n",
    "\n",
    "La sentencia **while** (mientras) repite las operaciones dentro de un bloque mientras la condici'on l'ogica que eval'ua es True (verdadera).\n",
    "\n",
    "El programador debe planificar un momento en que la condici'on sea False y el bucle se detenga. De otra forma se convierte un bucle infinito.\n"
   ]
  },
  {
   "cell_type": "code",
   "execution_count": 1,
   "metadata": {},
   "outputs": [
    {
     "name": "stdout",
     "output_type": "stream",
     "text": [
      "contador vale: 1\n",
      "contador vale: 2\n",
      "contador vale: 3\n",
      "contador vale: 4\n",
      "contador vale: 5\n",
      "contador vale: 6\n"
     ]
    }
   ],
   "source": [
    "contador = 0\n",
    "\n",
    "while contador <= 5:\n",
    "    contador += 1\n",
    "    print(\"contador vale:\", contador)"
   ]
  },
  {
   "cell_type": "code",
   "execution_count": 3,
   "metadata": {},
   "outputs": [
    {
     "name": "stdout",
     "output_type": "stream",
     "text": [
      "contador vale: 0\n",
      "contador vale: 1\n",
      "contador vale: 2\n",
      "contador vale: 3\n",
      "contador vale: 4\n",
      "contador vale: 5\n",
      "Se realizaron 6 iteraciones\n"
     ]
    }
   ],
   "source": [
    "c = 0\n",
    "\n",
    "while c <= 5:\n",
    "    print(\"contador vale:\", c)\n",
    "    c += 1\n",
    "else:\n",
    "    print(\"Se realizaron\", c,\"iteraciones\")"
   ]
  },
  {
   "attachments": {},
   "cell_type": "markdown",
   "metadata": {},
   "source": [
    "## Break \n",
    "Este comando permite detener un bucle en cualquier momento."
   ]
  },
  {
   "cell_type": "code",
   "execution_count": 7,
   "metadata": {},
   "outputs": [
    {
     "name": "stdout",
     "output_type": "stream",
     "text": [
      "c vale 1\n",
      "c vale 2\n",
      "c vale 3\n",
      "Rompemos el bucle cuando c vale 4\n"
     ]
    }
   ],
   "source": [
    "cont = 0\n",
    "while cont <= 5:\n",
    "    cont += 1\n",
    "    if cont == 4:\n",
    "        print(\"Rompemos el bucle cuando c vale\", cont)\n",
    "        break\n",
    "    print(\"c vale\", cont)\n",
    "else:\n",
    "    print(\"Se realizaron\",cont,\"iteraciones\")"
   ]
  },
  {
   "attachments": {},
   "cell_type": "markdown",
   "metadata": {},
   "source": [
    "## Continue\n",
    "\n",
    "Con este comando saltamos a la siguiente iteracion sin romper el bucle."
   ]
  },
  {
   "cell_type": "code",
   "execution_count": 8,
   "metadata": {},
   "outputs": [
    {
     "name": "stdout",
     "output_type": "stream",
     "text": [
      "c vale 1\n",
      "Ya que c c vale 2 saltamos esta iteraci'on y continuamos con la siguiente\n",
      "c vale 3\n",
      "Ya que c c vale 4 saltamos esta iteraci'on y continuamos con la siguiente\n",
      "c vale 5\n",
      "c vale 6\n",
      "Se realizaron 6 iteraciones\n"
     ]
    }
   ],
   "source": [
    "cont = 0\n",
    "\n",
    "while cont <= 5:\n",
    "    cont += 1\n",
    "    if cont==2 or cont == 4:\n",
    "        print(\"Ya que c c vale\", cont, \"saltamos esta iteraci'on y continuamos con la siguiente\")\n",
    "        continue\n",
    "    print(\"c vale\", cont)\n",
    "else:\n",
    "    print(\"Se realizaron\",cont,\"iteraciones\")"
   ]
  },
  {
   "cell_type": "code",
   "execution_count": 1,
   "metadata": {},
   "outputs": [
    {
     "name": "stdout",
     "output_type": "stream",
     "text": [
      "Bienvenido\n",
      "Escogio el 1 de opcion\n",
      "Hola\n",
      "Escogio el 2 de opcion\n",
      "La multiplicacion de 3.0 por 4.0 es 12.0\n",
      "Escogio el 3 de opcion\n",
      "Hasta Luego\n"
     ]
    }
   ],
   "source": [
    "# Menu de Usuario\n",
    "print(\"Bienvenido\")\n",
    "while(True):\n",
    "    opcion = input(f\"\"\"Escoge una opcion\n",
    "    1) Saludar\n",
    "    2) Multiplicar 2 numeros\n",
    "    3) Salir\"\"\")\n",
    "    print(\"Escogio el\",opcion, \"de opcion\")\n",
    "\n",
    "    if opcion == \"1\":\n",
    "        print(\"Hola\")\n",
    "    elif opcion == \"2\":\n",
    "        n1 = float(input(\"Escribe un n'umero\"))\n",
    "        n2 = float(input(\"Escribe otro n'umero\"))\n",
    "        print(\"La multiplicacion de\",n1, \"por\", n2, \"es\", n1*n2)\n",
    "    elif opcion == \"3\":\n",
    "        print(\"Hasta Luego\")\n",
    "        break\n",
    "    else:\n",
    "        print(\"Opcion incorrecta\")"
   ]
  }
 ],
 "metadata": {
  "kernelspec": {
   "display_name": "Python 3",
   "language": "python",
   "name": "python3"
  },
  "language_info": {
   "codemirror_mode": {
    "name": "ipython",
    "version": 3
   },
   "file_extension": ".py",
   "mimetype": "text/x-python",
   "name": "python",
   "nbconvert_exporter": "python",
   "pygments_lexer": "ipython3",
   "version": "3.11.3"
  },
  "orig_nbformat": 4
 },
 "nbformat": 4,
 "nbformat_minor": 2
}
