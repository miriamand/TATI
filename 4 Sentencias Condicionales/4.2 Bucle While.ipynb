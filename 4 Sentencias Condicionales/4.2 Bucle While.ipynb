{
 "cells": [
  {
   "attachments": {},
   "cell_type": "markdown",
   "metadata": {},
   "source": [
    "Un bluce es una secuencia que ejecuta una acción reiteridad veces hasta que la condición asignada al bucle deja de cumplirse. Cada nueva ejecución de la secuencia se denomina iteración.\n",
    "\n",
    "La sentencia While (Mientras) repite las operaciones dentro de un bloque mientras la condición lógica que evalúa es True (verdadera).\n",
    "\n",
    "El programador debe planificar un momento en que la condición sea False y el bucle se detenga. De otra forma se vuelve un bucle infinito."
   ]
  },
  {
   "cell_type": "code",
   "execution_count": 1,
   "metadata": {},
   "outputs": [
    {
     "name": "stdout",
     "output_type": "stream",
     "text": [
      "Contador vale  1\n",
      "Contador vale  2\n",
      "Contador vale  3\n",
      "Contador vale  4\n",
      "Contador vale  5\n",
      "Contador vale  6\n"
     ]
    }
   ],
   "source": [
    "contador = 0\n",
    "while contador <= 5:\n",
    "    contador += 1\n",
    "    print(\"Contador vale \", contador)"
   ]
  },
  {
   "cell_type": "code",
   "execution_count": 2,
   "metadata": {},
   "outputs": [
    {
     "name": "stdout",
     "output_type": "stream",
     "text": [
      "Contador vale:  0\n",
      "Contador vale:  1\n",
      "Contador vale:  2\n",
      "Contador vale:  3\n",
      "Contador vale:  4\n",
      "Contador vale:  5\n",
      "Se realizaron 6 iteraciones,\n"
     ]
    }
   ],
   "source": [
    "c = 0\n",
    "while c <= 5:\n",
    "    print(\"Contador vale: \", c)\n",
    "    c += 1\n",
    "else:\n",
    "    print(\"Se realizaron {} iteraciones,\".format(c))"
   ]
  },
  {
   "attachments": {},
   "cell_type": "markdown",
   "metadata": {},
   "source": [
    "BREAK\n",
    "Con este comando detenemos el bucle en cualquier momento."
   ]
  },
  {
   "cell_type": "code",
   "execution_count": 3,
   "metadata": {},
   "outputs": [
    {
     "name": "stdout",
     "output_type": "stream",
     "text": [
      "c vale  1\n",
      "c vale  2\n",
      "c vale  3\n",
      "Rompemos el bucle cuando c vale  4\n"
     ]
    }
   ],
   "source": [
    "contador = 0\n",
    "while contador <= 5:\n",
    "    contador += 1\n",
    "    if contador == 4:\n",
    "        print(\"Rompemos el bucle cuando c vale \", contador)\n",
    "        break\n",
    "    print(\"c vale \", contador)\n",
    "else:\n",
    "    print(\"Se realizaron {} iteraciones.\".format(contador))"
   ]
  },
  {
   "attachments": {},
   "cell_type": "markdown",
   "metadata": {},
   "source": [
    "CONTINUE\n",
    "Con este comando saltamos a la siguiente iteracion sin romper el bucle."
   ]
  },
  {
   "cell_type": "code",
   "execution_count": 4,
   "metadata": {},
   "outputs": [
    {
     "name": "stdout",
     "output_type": "stream",
     "text": [
      "c vale  1\n",
      "Ya que c vale(c) saltamos esta itercacion y continuamos con la siguiente.\n",
      "c vale  3\n",
      "Ya que c vale(c) saltamos esta itercacion y continuamos con la siguiente.\n",
      "c vale  5\n",
      "c vale  6\n",
      "Se realizaron 6 iteraciones.\n"
     ]
    }
   ],
   "source": [
    "c = 0\n",
    "while c <= 5:\n",
    "    c += 1\n",
    "    if c == 2 or c == 4:\n",
    "        print(f\"\"\"Ya que c vale(c) saltamos esta itercacion y continuamos con la siguiente.\"\"\")\n",
    "        continue\n",
    "    print(\"c vale \", c)\n",
    "else:\n",
    "    print(\"Se realizaron {} iteraciones.\".format(c))"
   ]
  },
  {
   "cell_type": "code",
   "execution_count": 6,
   "metadata": {},
   "outputs": [
    {
     "name": "stdout",
     "output_type": "stream",
     "text": [
      "Bienvenido\n",
      "Usted escogió la opcion 2...\n",
      "\n",
      "E1 resultado de la suma es: 4.0.\n",
      "Usted escogió la opcion 2...\n",
      "\n",
      "E1 resultado de la suma es: 4.0.\n",
      "Usted escogió la opcion 2...\n",
      "\n",
      "E1 resultado de la suma es: 4.0.\n",
      "Usted escogió la opcion 2...\n",
      "\n",
      "E1 resultado de la suma es: 4.0.\n",
      "Usted escogió la opcion 2...\n",
      "\n",
      "E1 resultado de la suma es: 4.0.\n",
      "Usted escogió la opcion 2...\n",
      "\n",
      "E1 resultado de la suma es: 4.0.\n",
      "Usted escogió la opcion 2...\n",
      "\n",
      "E1 resultado de la suma es: 4.0.\n",
      "Usted escogió la opcion 3...\n",
      "\n",
      " Hasta Luego\n"
     ]
    }
   ],
   "source": [
    "print(\"Bienvenido\")\n",
    "while(True):\n",
    "    opcion = input(f\"\"\"¿Que quieres hacer?\n",
    "    (ingresa una opcion):\n",
    "    1) Saludar\n",
    "    2) Sumar dos numeros\n",
    "    3) Salir\"\"\")\n",
    "    print(\"Usted escogió la opcion {}...\".format(opcion))\n",
    "    if opcion == '1':\n",
    "        print(\"\\n\")\n",
    "    elif opcion == '2':\n",
    "        n1 = float(input(\"Ingrese el n1:\\n\"))\n",
    "        n2 = float(input(\"Ingrese en n2:\\n\"))\n",
    "        print(f\"\"\"\\nE1 resultado de la suma es: {n1+n2}.\"\"\")\n",
    "    elif opcion == '3':\n",
    "        print(\"\\n Hasta Luego\")\n",
    "        break\n",
    "    else:\n",
    "        print (\"Opcion Incorrecta, Intente de Nuevo.\")\n",
    "    "
   ]
  }
 ],
 "metadata": {
  "kernelspec": {
   "display_name": "Python 3",
   "language": "python",
   "name": "python3"
  },
  "language_info": {
   "codemirror_mode": {
    "name": "ipython",
    "version": 3
   },
   "file_extension": ".py",
   "mimetype": "text/x-python",
   "name": "python",
   "nbconvert_exporter": "python",
   "pygments_lexer": "ipython3",
   "version": "3.11.2"
  },
  "orig_nbformat": 4
 },
 "nbformat": 4,
 "nbformat_minor": 2
}
