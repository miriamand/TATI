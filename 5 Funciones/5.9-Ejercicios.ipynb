{
 "cells": [
  {
   "attachments": {},
   "cell_type": "markdown",
   "metadata": {},
   "source": [
    "# 5.9 EJERCICIOS \n",
    "\n",
    "1) Realiza una función llamada area_rect() que devuelva el área de un rectángulo a partir de una base y una altura. \n",
    "Calcula el área de un rectángulo de base 15 y altura 10."
   ]
  },
  {
   "cell_type": "code",
   "execution_count": 3,
   "metadata": {},
   "outputs": [
    {
     "name": "stdout",
     "output_type": "stream",
     "text": [
      "el area es 150\n"
     ]
    }
   ],
   "source": [
    "def area_rect(base,altura):\n",
    "   print(\"el area es\", base*altura)\n",
    "\n",
    "area_rect(15,10)"
   ]
  },
  {
   "attachments": {},
   "cell_type": "markdown",
   "metadata": {},
   "source": [
    "2) Realiza una función llamada area_circ() que devuelva el area de un circulo a partir de un radio.\n",
    "Calcula el area de un circulo de 5 de diametro \n",
    " NOTA: Utiliza el modulo math con la lina import math"
   ]
  },
  {
   "cell_type": "code",
   "execution_count": 17,
   "metadata": {},
   "outputs": [
    {
     "data": {
      "text/plain": [
       "19.63"
      ]
     },
     "execution_count": 17,
     "metadata": {},
     "output_type": "execute_result"
    }
   ],
   "source": [
    "import math\n",
    "\n",
    "def area_circ(d):\n",
    "   return math. pi * pow(d,2) / 4\n",
    "\n",
    "round(area_circ(5),2)"
   ]
  },
  {
   "attachments": {},
   "cell_type": "markdown",
   "metadata": {},
   "source": [
    "3) Realiza una función llamada relacion() que a partir de 2 numeros cumpla lo siguiente:\n",
    "- Si el primero es mayor que el segundo, devuelve 1\n",
    "- Si el primero es menor que el segundo, devuelve -1\n",
    "- Si ambos numeros son iguales, devuelve 0"
   ]
  },
  {
   "cell_type": "code",
   "execution_count": 21,
   "metadata": {},
   "outputs": [
    {
     "data": {
      "text/plain": [
       "1"
      ]
     },
     "execution_count": 21,
     "metadata": {},
     "output_type": "execute_result"
    }
   ],
   "source": [
    "def relacion(a,b):\n",
    "    if a>b:\n",
    "        return 1\n",
    "    elif a<b:\n",
    "        return -1\n",
    "    else:\n",
    "        return 0 \n",
    "    \n",
    "\n",
    "relacion(float(input(\"Escribe un numero\")),float(input(\"escribe otro numero\")))"
   ]
  },
  {
   "attachments": {},
   "cell_type": "markdown",
   "metadata": {},
   "source": [
    "5) Realiza una función separar() que tome una lista de numeros enteros y devuelva 2 listas ordenadas la primera con los números pares y la segunda con los impares.\n",
    "\n",
    "Ejemplo\n",
    "- pares, impares = separar[1,2,3,4,5,6]\n",
    "print(pares) = [2,4,6]\n",
    "\n",
    "> Nota: para ordenar una lista utiliza el método sort()"
   ]
  },
  {
   "cell_type": "code",
   "execution_count": 10,
   "metadata": {},
   "outputs": [
    {
     "name": "stdout",
     "output_type": "stream",
     "text": [
      "[2, 4, 8] [1, 3, 9]\n"
     ]
    }
   ],
   "source": [
    "def separar(numeros):\n",
    "    pares = []\n",
    "    impares = []\n",
    "    numeros.sort()\n",
    "\n",
    "    for num in numeros:\n",
    "        if num%2==0:\n",
    "            pares.append(num)\n",
    "        else:\n",
    "            impares.append(num)\n",
    "            \n",
    "    return pares,impares\n",
    "    \n",
    "pares, impares = separar([1,3,4,8,2,9])\n",
    "\n",
    "print(pares,impares)"
   ]
  },
  {
   "cell_type": "markdown",
   "metadata": {},
   "source": []
  }
 ],
 "metadata": {
  "kernelspec": {
   "display_name": "Python 3",
   "language": "python",
   "name": "python3"
  },
  "language_info": {
   "codemirror_mode": {
    "name": "ipython",
    "version": 3
   },
   "file_extension": ".py",
   "mimetype": "text/x-python",
   "name": "python",
   "nbconvert_exporter": "python",
   "pygments_lexer": "ipython3",
   "version": "3.11.3"
  },
  "orig_nbformat": 4
 },
 "nbformat": 4,
 "nbformat_minor": 2
}
