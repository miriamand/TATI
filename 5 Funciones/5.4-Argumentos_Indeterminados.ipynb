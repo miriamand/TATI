{
 "cells": [
  {
   "attachments": {},
   "cell_type": "markdown",
   "metadata": {},
   "source": [
    "# 5.4 Argumentos Indeterminados"
   ]
  },
  {
   "attachments": {},
   "cell_type": "markdown",
   "metadata": {},
   "source": [
    "Los argumentos indeterminados representan la forma de pasar una colección de parámetros desconocidos a nuestras funciones."
   ]
  },
  {
   "cell_type": "code",
   "execution_count": 5,
   "metadata": {},
   "outputs": [
    {
     "name": "stdout",
     "output_type": "stream",
     "text": [
      "(5, 'Joe', [1, 2, 3, 4])\n"
     ]
    }
   ],
   "source": [
    "def Argumentar(*args):\n",
    "    print(args)\n",
    "\n",
    "Argumentar(5,\"Joe\",[1,2,3,4])\n",
    "\n"
   ]
  },
  {
   "cell_type": "code",
   "execution_count": 6,
   "metadata": {},
   "outputs": [
    {
     "name": "stdout",
     "output_type": "stream",
     "text": [
      "1 <class 'int'>\n",
      "Nick <class 'str'>\n",
      "[1, 2, 3, 4] <class 'list'>\n"
     ]
    }
   ],
   "source": [
    "def Argumentar2(*args):\n",
    "    for i in args:\n",
    "        print(i,type(i))\n",
    "\n",
    "Argumentar2(1,\"Nick\",[1,2,3,4])"
   ]
  },
  {
   "cell_type": "code",
   "execution_count": 9,
   "metadata": {},
   "outputs": [
    {
     "name": "stdout",
     "output_type": "stream",
     "text": [
      "{'id': 5, 'nombre': 'Kevin', 'notas': [10, 10, 70, 84]}\n"
     ]
    }
   ],
   "source": [
    "def Nombrar(**kwargs):\n",
    "    print(kwargs)\n",
    "\n",
    "Nombrar(id=5,nombre=\"Kevin\",notas=[10,10,70,84])"
   ]
  },
  {
   "cell_type": "code",
   "execution_count": 10,
   "metadata": {},
   "outputs": [
    {
     "name": "stdout",
     "output_type": "stream",
     "text": [
      "id\n",
      "nombre\n",
      "notas\n"
     ]
    }
   ],
   "source": [
    "def Nombrar2(**kwargs):\n",
    "    for kw in kwargs:\n",
    "        print(kw)\n",
    "\n",
    "Nombrar2(id=5,nombre=\"Kevin\",notas=[100,100,70,84])"
   ]
  },
  {
   "cell_type": "code",
   "execution_count": 11,
   "metadata": {},
   "outputs": [
    {
     "name": "stdout",
     "output_type": "stream",
     "text": [
      "id   5\n",
      "nombre   Kevin\n",
      "notas   [10, 10, 70, 84]\n"
     ]
    }
   ],
   "source": [
    "def Nombrar3(**kwargs):\n",
    "    for kw in kwargs:\n",
    "        print(kw,\" \",kwargs[kw])\n",
    "\n",
    "Nombrar3(id=5,nombre=\"Kevin\",notas=[100,100,70,84])"
   ]
  },
  {
   "cell_type": "code",
   "execution_count": 12,
   "metadata": {},
   "outputs": [
    {
     "name": "stdout",
     "output_type": "stream",
     "text": [
      "El promedio indeterminado es 8.75\n",
      "id \t 5\n",
      "nombre \t Kevin\n",
      "edad \t 35\n",
      "notas \t [100, 200, 400]\n"
     ]
    }
   ],
   "source": [
    "def super_nominacion(*args, **kwargs):\n",
    "    suma = 0 \n",
    "    for e in args:\n",
    "        suma += e\n",
    "    print (\"El promedio indeterminado es {}\".format(suma/len(args)))\n",
    "    \n",
    "    for clave in kwargs:\n",
    "        print (clave,\"\\t\", kwargs[clave])\n",
    "\n",
    "super_nominacion(10,10,7,8,id=5,nombre=\"Kevin\",edad=35, notas=[100,200,400])"
   ]
  },
  {
   "cell_type": "markdown",
   "metadata": {},
   "source": []
  },
  {
   "cell_type": "markdown",
   "metadata": {},
   "source": []
  }
 ],
 "metadata": {
  "kernelspec": {
   "display_name": "Python 3",
   "language": "python",
   "name": "python3"
  },
  "language_info": {
   "codemirror_mode": {
    "name": "ipython",
    "version": 3
   },
   "file_extension": ".py",
   "mimetype": "text/x-python",
   "name": "python",
   "nbconvert_exporter": "python",
   "pygments_lexer": "ipython3",
   "version": "3.11.3"
  },
  "orig_nbformat": 4
 },
 "nbformat": 4,
 "nbformat_minor": 2
}
