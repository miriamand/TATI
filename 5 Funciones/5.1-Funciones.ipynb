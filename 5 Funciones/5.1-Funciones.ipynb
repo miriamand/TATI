{
 "cells": [
  {
   "attachments": {},
   "cell_type": "markdown",
   "metadata": {},
   "source": [
    "# 5.1 Definir una Función\n",
    "Las funciones en python, al igual que en el resto de lenguajes de programación, permiten reutilizar código. Una función podría considerarse como una variable que encierra un conjunto de instrucciones. Por lo que tanto al llamar a un función lo que haces es ordenar el programa para que ejecute un conjunto de instrucciones.\n",
    "\n",
    "**Algunas caracteristicas de las funciones en Python son:\n",
    "- Se pueden crear en cualquier momento del programa\n",
    "- Su palabra reservada es *def*\n",
    "- Seguido de *def* viene el nombre de la función y entre paréntesis los argumentos de entrada\n",
    "- No es obligatorio que la función devuelva in valor, aunque es posible hacerlo utilizando la palabra reservada *return*\n",
    "-Las variables declaradas dentro de una función son locales a esa función\n",
    "-Para declarar una variable dentro de una función, pero poder acceder a ella desde la misma funcion, esta se puede declarar como global(utilizando la palabra *global*)"
   ]
  },
  {
   "cell_type": "code",
   "execution_count": null,
   "metadata": {},
   "outputs": [],
   "source": [
    "def saludar():\n",
    "    print(f\"Hola\")\n",
    "\n",
    "saludar()"
   ]
  },
  {
   "cell_type": "code",
   "execution_count": null,
   "metadata": {},
   "outputs": [],
   "source": [
    "def tabla_multi(num):\n",
    "    for i in range(11):\n",
    "        print (f\"{num}*{i}={num*i}\")\n",
    "\n",
    "tabla_multi(int(input(\"dame un número\")))\n",
    "\n"
   ]
  },
  {
   "attachments": {},
   "cell_type": "markdown",
   "metadata": {},
   "source": [
    "## Scope\n",
    "Cada nombre(los identificadores de variables funciones, objetos,etc) tienen su *scope* (alcance).Este define el área de un programa en el cual puedes acceder a un nombre."
   ]
  },
  {
   "cell_type": "code",
   "execution_count": 23,
   "metadata": {},
   "outputs": [
    {
     "name": "stdout",
     "output_type": "stream",
     "text": [
      "5\n"
     ]
    }
   ],
   "source": [
    "def prueba():\n",
    "    n=10\n",
    "\n",
    "prueba()\n",
    "\n",
    "n = 5\n",
    "\n",
    "def prueba2():\n",
    "    print(n)\n",
    "\n",
    "prueba2()\n",
    "\n",
    "def prueba3():\n",
    "    global g\n",
    "    g = 10\n",
    "\n",
    "prueba3()"
   ]
  },
  {
   "cell_type": "code",
   "execution_count": 8,
   "metadata": {},
   "outputs": [
    {
     "name": "stdout",
     "output_type": "stream",
     "text": [
      "8\n"
     ]
    }
   ],
   "source": [
    "def test():\n",
    "    print(m)\n",
    "  \n",
    "m = 8\n",
    "test()\n"
   ]
  },
  {
   "attachments": {},
   "cell_type": "markdown",
   "metadata": {},
   "source": [
    "Una función va dar prioridad a sus variables locales que las globales."
   ]
  },
  {
   "cell_type": "code",
   "execution_count": 9,
   "metadata": {},
   "outputs": [
    {
     "name": "stdout",
     "output_type": "stream",
     "text": [
      "5\n",
      "5\n",
      "14\n"
     ]
    }
   ],
   "source": [
    "def test2():\n",
    "    o = 5 # Esta variable se encuentra de forma local\n",
    "    print(o)\n",
    "\n",
    "test2()\n",
    "\n",
    "o = 14  # Esta variable se encuentra de forma global\n",
    "\n",
    "test2()\n",
    "print(o)"
   ]
  }
 ],
 "metadata": {
  "kernelspec": {
   "display_name": "Python 3",
   "language": "python",
   "name": "python3"
  },
  "language_info": {
   "codemirror_mode": {
    "name": "ipython",
    "version": 3
   },
   "file_extension": ".py",
   "mimetype": "text/x-python",
   "name": "python",
   "nbconvert_exporter": "python",
   "pygments_lexer": "ipython3",
   "version": "3.11.3"
  },
  "orig_nbformat": 4
 },
 "nbformat": 4,
 "nbformat_minor": 2
}
