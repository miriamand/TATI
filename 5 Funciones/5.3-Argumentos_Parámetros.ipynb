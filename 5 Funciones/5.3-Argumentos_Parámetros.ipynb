{
 "cells": [
  {
   "attachments": {},
   "cell_type": "markdown",
   "metadata": {},
   "source": [
    "# 5.3 Argumentos y Parámetros \n",
    "\n",
    "Los argumentos son los valores que pasamos para utilizarse dentro de una función(num1,num2)."
   ]
  },
  {
   "cell_type": "code",
   "execution_count": 2,
   "metadata": {},
   "outputs": [
    {
     "data": {
      "text/plain": [
       "0.0"
      ]
     },
     "execution_count": 2,
     "metadata": {},
     "output_type": "execute_result"
    }
   ],
   "source": [
    "def resta(num1,num2):\n",
    "    return num1-num2\n",
    "\n",
    "resta(float(input(\"escribe un numero\")),float(input(\"escribe un numero\")))"
   ]
  },
  {
   "attachments": {},
   "cell_type": "markdown",
   "metadata": {},
   "source": [
    "Se puede definir el valor predeterminado para nuestros parámetros."
   ]
  },
  {
   "cell_type": "code",
   "execution_count": 10,
   "metadata": {},
   "outputs": [
    {
     "name": "stdout",
     "output_type": "stream",
     "text": [
      "Error, envia valores\n"
     ]
    }
   ],
   "source": [
    "def resta2(a=None,b=None):\n",
    "    if (a==None or b==None):\n",
    "        print(\"Error, envia valores\")\n",
    "        return \n",
    "    else:\n",
    "        return a - b\n",
    "    \n",
    "resta2(3,2)\n",
    "resta2()\n",
    "\n",
    "    "
   ]
  },
  {
   "attachments": {},
   "cell_type": "markdown",
   "metadata": {},
   "source": [
    "## Argumentos por valor"
   ]
  },
  {
   "cell_type": "code",
   "execution_count": 13,
   "metadata": {},
   "outputs": [
    {
     "data": {
      "text/plain": [
       "(20, 10)"
      ]
     },
     "execution_count": 13,
     "metadata": {},
     "output_type": "execute_result"
    }
   ],
   "source": [
    "def duplicar(num):\n",
    "    return num * 2\n",
    "\n",
    "n = 10\n",
    "\n",
    "duplicar(n),n\n"
   ]
  },
  {
   "attachments": {},
   "cell_type": "markdown",
   "metadata": {},
   "source": [
    "## Argumentos por Referencia"
   ]
  },
  {
   "cell_type": "code",
   "execution_count": 15,
   "metadata": {},
   "outputs": [
    {
     "data": {
      "text/plain": [
       "([0, 2, 4, 6, 8], [0, 2, 4, 6, 8])"
      ]
     },
     "execution_count": 15,
     "metadata": {},
     "output_type": "execute_result"
    }
   ],
   "source": [
    "def duplicar2(nums):\n",
    "    for i,j in enumerate(nums):\n",
    "        nums[i] *= 2\n",
    "    return nums\n",
    "\n",
    "notas_a = list(range(5))\n",
    "notas_b = duplicar2(notas_a)\n",
    "\n",
    "notas_a,notas_b\n",
    "\n",
    "# Una lista no se pasará como copia dentro de una función, mas bien será remplazada\n",
    "# en las operaciones de dicha función."
   ]
  },
  {
   "attachments": {},
   "cell_type": "markdown",
   "metadata": {},
   "source": [
    "Nota: Para enviar una copia de una lista a una función se utiliza nombre[:]"
   ]
  },
  {
   "cell_type": "code",
   "execution_count": 16,
   "metadata": {},
   "outputs": [
    {
     "data": {
      "text/plain": [
       "([0, 1, 2, 3, 4, 5], [0, 2, 4, 6, 8, 10])"
      ]
     },
     "execution_count": 16,
     "metadata": {},
     "output_type": "execute_result"
    }
   ],
   "source": [
    "notas_c = list(range(6))\n",
    "notas_d = duplicar2(notas_c[:])\n",
    "\n",
    "notas_c, notas_d"
   ]
  },
  {
   "attachments": {},
   "cell_type": "markdown",
   "metadata": {},
   "source": []
  }
 ],
 "metadata": {
  "kernelspec": {
   "display_name": "Python 3",
   "language": "python",
   "name": "python3"
  },
  "language_info": {
   "codemirror_mode": {
    "name": "ipython",
    "version": 3
   },
   "file_extension": ".py",
   "mimetype": "text/x-python",
   "name": "python",
   "nbconvert_exporter": "python",
   "pygments_lexer": "ipython3",
   "version": "3.11.3"
  },
  "orig_nbformat": 4
 },
 "nbformat": 4,
 "nbformat_minor": 2
}
