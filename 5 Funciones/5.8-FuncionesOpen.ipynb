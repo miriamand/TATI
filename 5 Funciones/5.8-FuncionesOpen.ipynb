{
 "cells": [
  {
   "attachments": {},
   "cell_type": "markdown",
   "metadata": {},
   "source": [
    "# Funciones Open \n",
    "Función que nos permite escribir o leer un archivo externo especificando la url donde se encuentra dicho archivo y el modo de acceso dependiendo de que acción quisieramos realizar, algunas opciones son :\n",
    "**w : acceso de escritura de un archivo nuevo**\n",
    "**r : acceso de lectura de un archivo existente**\n",
    "**a : acceso de escritura para agregar más elementos a un archivo existente**"
   ]
  },
  {
   "cell_type": "code",
   "execution_count": 13,
   "metadata": {},
   "outputs": [],
   "source": [
    "with open(r'ejemplo.txt', 'w', encoding='utf-8') as f:\n",
    "    f.write('Escritura en ficheros')\n",
    "    f.write('\\nOtra Linea ')\n",
    "    f.write('Y la misma linea')\n"
   ]
  },
  {
   "cell_type": "code",
   "execution_count": 14,
   "metadata": {},
   "outputs": [
    {
     "name": "stdout",
     "output_type": "stream",
     "text": [
      "Escritura en ficheros\n",
      "Otra Linea Y la misma linea\n"
     ]
    }
   ],
   "source": [
    "with open(r'ejemplo.txt', 'r', encoding='utf-8') as f:\n",
    "    print(f.read())"
   ]
  },
  {
   "cell_type": "code",
   "execution_count": 15,
   "metadata": {},
   "outputs": [
    {
     "name": "stdout",
     "output_type": "stream",
     "text": [
      "Escritura en ficheros\n",
      "\n",
      "Otra Linea Y la misma linea\n"
     ]
    }
   ],
   "source": [
    "with open(r'ejemplo.txt','r') as f:\n",
    "    for linea in f:\n",
    "        print (linea)"
   ]
  },
  {
   "cell_type": "code",
   "execution_count": 16,
   "metadata": {},
   "outputs": [
    {
     "name": "stdout",
     "output_type": "stream",
     "text": [
      "['Escritura', 'en', 'ficheros'] <class 'list'>\n",
      "['Otra', 'Linea', 'Y', 'la', 'misma', 'linea'] <class 'list'>\n"
     ]
    }
   ],
   "source": [
    "with open(r'ejemplo.txt','r') as f:\n",
    "    for linea in f:\n",
    "        palabras = linea.split()\n",
    "        print(palabras, type(palabras))"
   ]
  },
  {
   "cell_type": "code",
   "execution_count": 19,
   "metadata": {},
   "outputs": [
    {
     "name": "stdout",
     "output_type": "stream",
     "text": [
      "['Escritura', 'en', 'ficheros', 'Otra', 'Linea', 'Y', 'la', 'misma', 'linea'] <class 'list'>\n"
     ]
    }
   ],
   "source": [
    "palabras2 = list()\n",
    "\n",
    "with open(r'ejemplo.txt','r') as f:\n",
    "    for linea in f:\n",
    "        term_1 = linea.split()\n",
    "        for t in term_1:\n",
    "            palabras2.append(t)\n",
    "    print(palabras2,type(palabras2))"
   ]
  }
 ],
 "metadata": {
  "kernelspec": {
   "display_name": "Python 3",
   "language": "python",
   "name": "python3"
  },
  "language_info": {
   "codemirror_mode": {
    "name": "ipython",
    "version": 3
   },
   "file_extension": ".py",
   "mimetype": "text/x-python",
   "name": "python",
   "nbconvert_exporter": "python",
   "pygments_lexer": "ipython3",
   "version": "3.11.3"
  },
  "orig_nbformat": 4
 },
 "nbformat": 4,
 "nbformat_minor": 2
}
