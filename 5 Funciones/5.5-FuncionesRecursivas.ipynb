{
 "cells": [
  {
   "attachments": {},
   "cell_type": "markdown",
   "metadata": {},
   "source": [
    "# Funciones Recursivas\n",
    "\n",
    "Es un tipo de función que se utiliza a sí misma en el mismo cuerpo de su definición."
   ]
  },
  {
   "cell_type": "code",
   "execution_count": 2,
   "metadata": {},
   "outputs": [
    {
     "name": "stdout",
     "output_type": "stream",
     "text": [
      "4\n",
      "3\n",
      "2\n",
      "1\n",
      "0 Boom\n",
      "Fin de la función 0\n",
      "Fin de la función 1\n",
      "Fin de la función 2\n",
      "Fin de la función 3\n",
      "Fin de la función 4\n"
     ]
    }
   ],
   "source": [
    "def cuenta_atras(num):\n",
    "    num -= 1\n",
    "    if (num > 0):\n",
    "        print (num)\n",
    "        cuenta_atras(num)\n",
    "    else:\n",
    "        print(num,\"Boom\")\n",
    "\n",
    "    print(\"Fin de la función {}\".format(num))\n",
    "\n",
    "\n",
    "cuenta_atras(5)"
   ]
  },
  {
   "cell_type": "code",
   "execution_count": 4,
   "metadata": {},
   "outputs": [
    {
     "name": "stdout",
     "output_type": "stream",
     "text": [
      "Valor inicial =  5\n",
      "Valor inicial =  4\n",
      "Valor inicial =  3\n",
      "Valor inicial =  2\n",
      "Valor inicial =  1\n",
      "valor final = 1\n",
      "valor final = 2\n",
      "valor final = 6\n",
      "valor final = 24\n",
      "valor final = 120\n"
     ]
    },
    {
     "data": {
      "text/plain": [
       "120"
      ]
     },
     "execution_count": 4,
     "metadata": {},
     "output_type": "execute_result"
    }
   ],
   "source": [
    "def factorial(num):\n",
    "    print (\"Valor inicial = \",num)\n",
    "    if num > 1:\n",
    "        num *= factorial(num-1)\n",
    "    print(\"valor final =\", num)\n",
    "    return num\n",
    "\n",
    "factorial(5)"
   ]
  }
 ],
 "metadata": {
  "kernelspec": {
   "display_name": "Python 3",
   "language": "python",
   "name": "python3"
  },
  "language_info": {
   "codemirror_mode": {
    "name": "ipython",
    "version": 3
   },
   "file_extension": ".py",
   "mimetype": "text/x-python",
   "name": "python",
   "nbconvert_exporter": "python",
   "pygments_lexer": "ipython3",
   "version": "3.11.3"
  },
  "orig_nbformat": 4
 },
 "nbformat": 4,
 "nbformat_minor": 2
}
