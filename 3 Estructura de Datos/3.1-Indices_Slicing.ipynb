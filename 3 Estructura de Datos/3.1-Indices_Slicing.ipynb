{
 "cells": [
  {
   "attachments": {},
   "cell_type": "markdown",
   "metadata": {},
   "source": [
    "# 3.1 Índices y Slicing\n",
    "\n",
    "Los índices son números ordenados asociados a las variables que nos permiten identificar los elementos por su posición.\n",
    "\n",
    "Por ejemplo, cada elemento de cadena tiene su propio índice."
   ]
  },
  {
   "cell_type": "code",
   "execution_count": 5,
   "metadata": {},
   "outputs": [],
   "source": [
    "texto =\"Cadena de texto\""
   ]
  },
  {
   "attachments": {},
   "cell_type": "markdown",
   "metadata": {},
   "source": [
    "El primer elemeto siempre tiene el indice 0 de manera predeterminada"
   ]
  },
  {
   "cell_type": "code",
   "execution_count": 3,
   "metadata": {},
   "outputs": [
    {
     "name": "stdout",
     "output_type": "stream",
     "text": [
      "C a d e n a\n"
     ]
    }
   ],
   "source": [
    "print(texto[0],texto[1],texto[2],texto[3],texto[4],texto[5])"
   ]
  },
  {
   "attachments": {},
   "cell_type": "markdown",
   "metadata": {},
   "source": [
    "Tambien a causa de esto, el indice del ultimo elemento se diferencia del numero total de elemetos por unidad.\n",
    "\n",
    "[[texto[0],[texto[1],...[texto[-3],[texto[-2],[texto[-1]]"
   ]
  },
  {
   "cell_type": "code",
   "execution_count": 7,
   "metadata": {},
   "outputs": [
    {
     "name": "stdout",
     "output_type": "stream",
     "text": [
      "t e x t o\n"
     ]
    }
   ],
   "source": [
    "print(texto[10],texto[11],texto[12],texto[13],texto[14])"
   ]
  },
  {
   "attachments": {},
   "cell_type": "markdown",
   "metadata": {},
   "source": [
    "Para cada elemento tambien existe un indeice inverso que realiza una numeracion desde el ultimo elemento hasta el primero, comenzando la cuenta con -1."
   ]
  },
  {
   "cell_type": "code",
   "execution_count": 8,
   "metadata": {},
   "outputs": [
    {
     "name": "stdout",
     "output_type": "stream",
     "text": [
      "t e x t o\n"
     ]
    }
   ],
   "source": [
    "# -5 \\ -4 \\ -3 \\ -2 \\ -1\n",
    "#  T    E    X    T   O\n",
    "# 10 \\ 11 \\ 12 \\ 13 \\ 14\n",
    "\n",
    "print(texto[-5],texto[-4],texto[-3],texto[-2],texto[-1])"
   ]
  },
  {
   "attachments": {},
   "cell_type": "markdown",
   "metadata": {},
   "source": [
    "## Slicing\n",
    "\n",
    "Gracias a los indices podemos seleccionar una secuencia de elementos de una variable.\n",
    "La secuencia de elementos lo definimos con el formato [a:b]. Esto es un rango de valores, el cual, nos devuelve por slicing desde el elementos a hasta el elemento previo al b dando por consecuencia que b se considere excluido del rango seleccionado.\n",
    "\n",
    "**NOTA:**Cuando un rango de valores exluye alguno de sus limites (siendo a el limite inferior y b el limite superior), se dice que el rango es abierto:\n",
    "- Abierto por la derecha(se excluye b del rango)\n",
    "- Abierto por la izquierda (se excluye a del rango)"
   ]
  },
  {
   "cell_type": "code",
   "execution_count": 23,
   "metadata": {},
   "outputs": [
    {
     "data": {
      "text/plain": [
       "'Cade'"
      ]
     },
     "execution_count": 23,
     "metadata": {},
     "output_type": "execute_result"
    }
   ],
   "source": [
    "texto[0:4]"
   ]
  },
  {
   "cell_type": "code",
   "execution_count": 22,
   "metadata": {},
   "outputs": [
    {
     "data": {
      "text/plain": [
       "'text'"
      ]
     },
     "execution_count": 22,
     "metadata": {},
     "output_type": "execute_result"
    }
   ],
   "source": [
    "texto[-5:-1]"
   ]
  },
  {
   "attachments": {},
   "cell_type": "markdown",
   "metadata": {},
   "source": [
    "Podemos omitir especificar alguno de los limites:\n",
    "- Si omitimos a ([:b]), el rango empezara la secuencia desde el indice indice 0 (es igual a escribir[0:b])\n",
    "- Si omitimos b ([a:]), el rango terminara la secuencia con el ultimo elemento (es igual a escribir[a:(n-1)])"
   ]
  },
  {
   "cell_type": "code",
   "execution_count": 14,
   "metadata": {},
   "outputs": [
    {
     "name": "stdout",
     "output_type": "stream",
     "text": [
      "text\n",
      "texto\n",
      "Cadena\n",
      "Cadena\n"
     ]
    }
   ],
   "source": [
    "print(texto[-5:-1])\n",
    "print(texto[-5:])\n",
    "print(texto[0:6])\n",
    "print(texto[:6])\n",
    "\n"
   ]
  }
 ],
 "metadata": {
  "kernelspec": {
   "display_name": "Python 3",
   "language": "python",
   "name": "python3"
  },
  "language_info": {
   "codemirror_mode": {
    "name": "ipython",
    "version": 3
   },
   "file_extension": ".py",
   "mimetype": "text/x-python",
   "name": "python",
   "nbconvert_exporter": "python",
   "pygments_lexer": "ipython3",
   "version": "3.11.2"
  },
  "orig_nbformat": 4
 },
 "nbformat": 4,
 "nbformat_minor": 2
}
