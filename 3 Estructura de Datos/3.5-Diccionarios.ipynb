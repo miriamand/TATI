{
 "cells": [
  {
   "attachments": {},
   "cell_type": "markdown",
   "metadata": {},
   "source": [
    "# 3.5 Diccionarios\n",
    "\n",
    "Son colecciones de datos semejantes a la listas solo que tienen un clave : valor:\n",
    "funcionan como indice de cada elemento (no solo son numeros)."
   ]
  },
  {
   "cell_type": "code",
   "execution_count": 14,
   "metadata": {},
   "outputs": [
    {
     "name": "stdout",
     "output_type": "stream",
     "text": [
      "{1: 'uno', 2: 'dos', 3: 'tres'}\n"
     ]
    }
   ],
   "source": [
    "numeros = {1:'uno', 2:'dos', 3:'tres' }\n",
    "datos = {\"numero\":\"matricula\",\"name\":\"nombre\",\"lastname\":\"apellido\"}\n",
    "\n",
    "print(numeros)"
   ]
  },
  {
   "attachments": {},
   "cell_type": "markdown",
   "metadata": {},
   "source": [
    "Podemos escoger entre sus elementos utilizando claves."
   ]
  },
  {
   "cell_type": "code",
   "execution_count": 9,
   "metadata": {},
   "outputs": [
    {
     "data": {
      "text/plain": [
       "'uno'"
      ]
     },
     "execution_count": 9,
     "metadata": {},
     "output_type": "execute_result"
    }
   ],
   "source": [
    "numeros[1]"
   ]
  },
  {
   "attachments": {},
   "cell_type": "markdown",
   "metadata": {},
   "source": [
    "Tambien podemos modificar los valores de sus elementos y realizar operaciones con ellos."
   ]
  },
  {
   "cell_type": "code",
   "execution_count": 10,
   "metadata": {},
   "outputs": [
    {
     "data": {
      "text/plain": [
       "{1: 'uno', 2: 'two', 3: 'tres'}"
      ]
     },
     "execution_count": 10,
     "metadata": {},
     "output_type": "execute_result"
    }
   ],
   "source": [
    "numeros[2]='two'\n",
    "\n",
    "numeros"
   ]
  },
  {
   "cell_type": "code",
   "execution_count": 12,
   "metadata": {},
   "outputs": [
    {
     "data": {
      "text/plain": [
       "{1: 'uno', 2: 'two', 3: 'tres', 4: 'cuatro', 5: 'cinco'}"
      ]
     },
     "execution_count": 12,
     "metadata": {},
     "output_type": "execute_result"
    }
   ],
   "source": [
    "numeros[4]=\"cuatro\"\n",
    "numeros[5]=\"cinco\"\n",
    "\n",
    "numeros"
   ]
  },
  {
   "cell_type": "code",
   "execution_count": 7,
   "metadata": {},
   "outputs": [
    {
     "name": "stdout",
     "output_type": "stream",
     "text": [
      "{'Miriam': 21, 'Luis': 22, 'Romina': 6}\n"
     ]
    }
   ],
   "source": [
    "edades = {\n",
    "    'Miriam':21,\n",
    "    'Luis':22,\n",
    "    'Romina':3\n",
    "}\n",
    "\n",
    "edades['Romina'] += 3\n",
    "\n",
    "print(edades)"
   ]
  },
  {
   "cell_type": "code",
   "execution_count": 20,
   "metadata": {},
   "outputs": [
    {
     "data": {
      "text/plain": [
       "43"
      ]
     },
     "execution_count": 20,
     "metadata": {},
     "output_type": "execute_result"
    }
   ],
   "source": [
    "edades['Luis'] + edades['Miriam']"
   ]
  },
  {
   "cell_type": "code",
   "execution_count": 8,
   "metadata": {},
   "outputs": [
    {
     "data": {
      "text/plain": [
       "{'Miriam': 21, 'Luis': 22, 'Romina': 6, 'Fernando': 28}"
      ]
     },
     "execution_count": 8,
     "metadata": {},
     "output_type": "execute_result"
    }
   ],
   "source": [
    "edades['Fernando'] = edades[\"Luis\"] + edades[\"Romina\"]\n",
    "\n",
    "edades"
   ]
  },
  {
   "attachments": {},
   "cell_type": "markdown",
   "metadata": {},
   "source": [
    "Metodos \n",
    "A traves de un bucle **For** podemos recorrer los elementos de un diccionario."
   ]
  },
  {
   "cell_type": "code",
   "execution_count": 9,
   "metadata": {},
   "outputs": [
    {
     "name": "stdout",
     "output_type": "stream",
     "text": [
      "Miriam\n",
      "Luis\n",
      "Romina\n",
      "Fernando\n"
     ]
    }
   ],
   "source": [
    "for clave in edades:\n",
    "    print(clave)"
   ]
  },
  {
   "cell_type": "code",
   "execution_count": 10,
   "metadata": {},
   "outputs": [
    {
     "name": "stdout",
     "output_type": "stream",
     "text": [
      "21\n",
      "22\n",
      "6\n",
      "28\n"
     ]
    }
   ],
   "source": [
    "for clave in edades:\n",
    "    print(edades[clave])"
   ]
  },
  {
   "cell_type": "code",
   "execution_count": 12,
   "metadata": {},
   "outputs": [
    {
     "name": "stdout",
     "output_type": "stream",
     "text": [
      "Miriam tiene 21 años\n",
      "Luis tiene 22 años\n",
      "Romina tiene 6 años\n",
      "Fernando tiene 28 años\n"
     ]
    }
   ],
   "source": [
    "for clave, valores in edades.items():\n",
    "    print( clave, \"tiene\", valores, \"años\")"
   ]
  },
  {
   "attachments": {},
   "cell_type": "markdown",
   "metadata": {},
   "source": [
    "El metodo **del()** nos permite eliminar valores de un diccionario por medio de su clave."
   ]
  },
  {
   "cell_type": "code",
   "execution_count": 16,
   "metadata": {},
   "outputs": [
    {
     "name": "stdout",
     "output_type": "stream",
     "text": [
      "{1: 'uno', 2: 'dos', 3: 'tres'}\n",
      "{2: 'dos', 3: 'tres'}\n"
     ]
    }
   ],
   "source": [
    "print(numeros)\n",
    "\n",
    "del(numeros[1])\n",
    "\n",
    "print(numeros)\n"
   ]
  },
  {
   "attachments": {},
   "cell_type": "markdown",
   "metadata": {},
   "source": [
    "Al combinar provechosamente las listas y los diccionarios. Se pueden crear grandes cosas, por ejemplo, un equipo de futbol."
   ]
  },
  {
   "cell_type": "code",
   "execution_count": 34,
   "metadata": {},
   "outputs": [
    {
     "name": "stdout",
     "output_type": "stream",
     "text": [
      "[{'name': 'Carlos', 'lastname': 'Acevedo', 'position': 'Portero'}]\n"
     ]
    }
   ],
   "source": [
    "equipo =[]\n",
    "\n",
    "jugadores = {'name':'Carlos',\n",
    "             'lastname':'Acevedo',\n",
    "             'position':'Portero'}\n",
    "\n",
    "equipo.append(jugadores)\n",
    "print (equipo)"
   ]
  },
  {
   "cell_type": "code",
   "execution_count": 35,
   "metadata": {},
   "outputs": [
    {
     "name": "stdout",
     "output_type": "stream",
     "text": [
      "[{'name': 'Carlos', 'lastname': 'Acevedo', 'position': 'Portero'}, {'name': 'Santiago', 'lastname': 'Muñoz', 'position': 'Delantero'}]\n"
     ]
    }
   ],
   "source": [
    "jugadores = {'name':'Santiago',\n",
    "             'lastname':'Muñoz',\n",
    "             'position':'Delantero'}\n",
    "equipo.append(jugadores)\n",
    "print (equipo)"
   ]
  },
  {
   "cell_type": "code",
   "execution_count": 36,
   "metadata": {},
   "outputs": [
    {
     "name": "stdout",
     "output_type": "stream",
     "text": [
      "[{'name': 'Carlos', 'lastname': 'Acevedo', 'position': 'Portero'}, {'name': 'Santiago', 'lastname': 'Muñoz', 'position': 'Delantero'}, {'name': 'Omar', 'lastname': 'Campos', 'position': 'Defensa'}]\n"
     ]
    }
   ],
   "source": [
    "jugadores = {'name':'Omar',\n",
    "             'lastname':'Campos',\n",
    "             'position':'Defensa'}\n",
    "equipo.append(jugadores)\n",
    "print (equipo)"
   ]
  },
  {
   "cell_type": "code",
   "execution_count": 40,
   "metadata": {},
   "outputs": [
    {
     "name": "stdout",
     "output_type": "stream",
     "text": [
      "Carlos Acevedo su posicion es Portero\n",
      "Santiago Muñoz su posicion es Delantero\n",
      "Omar Campos su posicion es Defensa\n"
     ]
    }
   ],
   "source": [
    "for e in equipo:\n",
    "    print(e['name'],e['lastname'],'su posicion es',e['position'])"
   ]
  }
 ],
 "metadata": {
  "kernelspec": {
   "display_name": "Python 3",
   "language": "python",
   "name": "python3"
  },
  "language_info": {
   "codemirror_mode": {
    "name": "ipython",
    "version": 3
   },
   "file_extension": ".py",
   "mimetype": "text/x-python",
   "name": "python",
   "nbconvert_exporter": "python",
   "pygments_lexer": "ipython3",
   "version": "3.11.3"
  },
  "orig_nbformat": 4
 },
 "nbformat": 4,
 "nbformat_minor": 2
}
