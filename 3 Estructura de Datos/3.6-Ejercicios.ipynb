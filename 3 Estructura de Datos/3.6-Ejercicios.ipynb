{
 "cells": [
  {
   "attachments": {},
   "cell_type": "markdown",
   "metadata": {},
   "source": [
    "## 1) Identificar el error en el siguiente codigo\n",
    "num_1 = 4\n",
    "\n",
    "num_2 = 3\n",
    "\n",
    "num_3 = 3\n",
    "\n",
    "media = num_1 + num_2 + num_3 / 3\n",
    "\n",
    "print(\"El promedio es:\", media)\n"
   ]
  },
  {
   "cell_type": "code",
   "execution_count": 4,
   "metadata": {},
   "outputs": [
    {
     "name": "stdout",
     "output_type": "stream",
     "text": [
      "El promedio es: 3\n"
     ]
    }
   ],
   "source": [
    "num_1 = 4\n",
    "num_2 = 3\n",
    "num_3 = 3\n",
    "\n",
    "media = round((num_1 + num_2 + num_3) / 3)\n",
    "\n",
    "print(\"El promedio es:\", media)"
   ]
  },
  {
   "attachments": {},
   "cell_type": "markdown",
   "metadata": {},
   "source": [
    "## 2) En la matriz, el 4 elemento siempre es la suma de los 3 anteriores.\n",
    " Utilizando la indexacion corrige las listas que no cumplan con esta condicion."
   ]
  },
  {
   "cell_type": "code",
   "execution_count": 2,
   "metadata": {},
   "outputs": [
    {
     "name": "stdout",
     "output_type": "stream",
     "text": [
      "[[1, 1, 1, 3], [2, 2, 2, 6], [3, 3, 3, 9], [4, 4, 4, 12]]\n"
     ]
    }
   ],
   "source": [
    "matriz = [\n",
    "    [1,1,1,3],\n",
    "    [2,2,2,7],\n",
    "    [3,3,3,9],\n",
    "    [4,4,4,13]\n",
    "]\n",
    "\n",
    "\n",
    "matriz[1][3]=6\n",
    "matriz[3][3]=12\n",
    "\n",
    "matriz[1][-1]=sum(matriz[1][:-1])\n",
    "matriz[3][-1]=sum(matriz[3][:-1])\n",
    "\n",
    "\n",
    "\n",
    "\n",
    "print(matriz)"
   ]
  },
  {
   "attachments": {},
   "cell_type": "markdown",
   "metadata": {},
   "source": [
    "## 3) En el desarrollo de un videiojuego se te encarga de configurar y balancear cada clase de personaje. Partiendo de que la estadistica base es 2, debes cumplir las siguientes estadisticas\n",
    "\n",
    "\n",
    "- El caballero tiene doble de vida y defensa que un guerrero.\n",
    "- El guerrero tiene doble ataque y alcance que un caballero.\n",
    "- El arquero tiene la misma vida y ataque que un guerrero, pero la mitad de su defensa y el doble de su alcance.\n",
    "\n",
    "Muestra como quedarian las propiedades de los 3 personajes."
   ]
  },
  {
   "cell_type": "code",
   "execution_count": 24,
   "metadata": {},
   "outputs": [
    {
     "name": "stdout",
     "output_type": "stream",
     "text": [
      "caballero {'vida': 4, 'ataque': 2, 'defensa': 4, 'alcance': 2} guerrero {'vida': 2, 'ataque': 4, 'defensa': 2, 'alcance': 4} arquero {'vida': 2, 'ataque': 4, 'defensa': 1.0, 'alcance': 8}\n"
     ]
    }
   ],
   "source": [
    "caballero = {'vida':2,'ataque':2, 'defensa':2, 'alcance':2}\n",
    "guerrero = {'vida':2,'ataque':2, 'defensa':2, 'alcance':2}\n",
    "arquero = {'vida':2,'ataque':2, 'defensa':2, 'alcance':2}\n",
    "\n",
    "caballero['vida'] = guerrero['vida'] * 2\n",
    "caballero['defensa'] = guerrero['defensa'] * 2\n",
    "\n",
    "guerrero['ataque'] = caballero['ataque'] * 2\n",
    "guerrero['alcance'] = guerrero['alcance'] * 2\n",
    "\n",
    "\n",
    "arquero['vida'] = guerrero['vida']\n",
    "arquero['ataque'] = guerrero['ataque']\n",
    "arquero['defensa'] = guerrero['defensa']/2  \n",
    "arquero['alcance'] = guerrero['alcance']*2  \n",
    "\n",
    "print('caballero',caballero,'guerrero',guerrero,'arquero',arquero) \n",
    "\n",
    "\n",
    "\n"
   ]
  }
 ],
 "metadata": {
  "kernelspec": {
   "display_name": "Python 3",
   "language": "python",
   "name": "python3"
  },
  "language_info": {
   "codemirror_mode": {
    "name": "ipython",
    "version": 3
   },
   "file_extension": ".py",
   "mimetype": "text/x-python",
   "name": "python",
   "nbconvert_exporter": "python",
   "pygments_lexer": "ipython3",
   "version": "3.11.3"
  },
  "orig_nbformat": 4
 },
 "nbformat": 4,
 "nbformat_minor": 2
}
