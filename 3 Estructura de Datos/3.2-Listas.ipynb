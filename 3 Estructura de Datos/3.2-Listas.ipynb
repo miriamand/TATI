{
 "cells": [
  {
   "attachments": {},
   "cell_type": "markdown",
   "metadata": {},
   "source": [
    "# 3.2 Listas\n",
    "\n",
    "Son un tipo de dato compuesto de varios elementos, estos pueden ser caracteres, númericos o inclusive de otros tipos. Cada elemento de la lista es accesible gracias a su indice."
   ]
  },
  {
   "cell_type": "code",
   "execution_count": 2,
   "metadata": {},
   "outputs": [
    {
     "data": {
      "text/plain": [
       "list"
      ]
     },
     "execution_count": 2,
     "metadata": {},
     "output_type": "execute_result"
    }
   ],
   "source": [
    "lista_mandado = [\"Huevos\", \"Leche\",\"Queso\",\"Jamon\"]\n",
    "lista_precios = [\"Huevos\",1.5, \"Leche\",2,\"Queso\",3.5,\"Jamon\",5]\n",
    "type(lista_mandado)"
   ]
  },
  {
   "cell_type": "code",
   "execution_count": 4,
   "metadata": {},
   "outputs": [
    {
     "name": "stdout",
     "output_type": "stream",
     "text": [
      "Los Huevos cuestan 1.5, la Leche cuesta 2,\n",
      "mientras que el Queso cuesta 3.5 y el Jamon cuesta 5\n"
     ]
    }
   ],
   "source": [
    "print(f\"\"\"Los {lista_precios[0]} cuestan {lista_precios[1]}, la {lista_precios[2]} cuesta {lista_precios[3]},\n",
    "mientras que el {lista_precios[4]} cuesta {lista_precios[5]} y el {lista_precios[6]} cuesta {lista_precios[7]}\"\"\" )"
   ]
  },
  {
   "attachments": {},
   "cell_type": "markdown",
   "metadata": {},
   "source": [
    "## Mutabilidad\n",
    "Las listas tienen la característica de permitirnos modificar el valor de alguno de sus elementos. Esto se llama mutabilidad y es importante distinguir entre objetos mutables, como las listas y otros objetos inmutables."
   ]
  },
  {
   "cell_type": "code",
   "execution_count": 2,
   "metadata": {},
   "outputs": [
    {
     "name": "stdout",
     "output_type": "stream",
     "text": [
      "[10, 50, 30]\n"
     ]
    }
   ],
   "source": [
    "lista_de_precios = [10, 20, 30]\n",
    "lista_de_precios[1] = 50\n",
    "print(lista_de_precios)"
   ]
  },
  {
   "cell_type": "code",
   "execution_count": 11,
   "metadata": {},
   "outputs": [
    {
     "name": "stdout",
     "output_type": "stream",
     "text": [
      "[1, 3, 5, 7, 9, 11]\n",
      "[1, 3, 5, 7, 9, 11, 8]\n",
      "[1, 3, 5, 7, 9, 11, 8, 2, 3]\n",
      "7\n",
      "False\n",
      "[2, 2, 5, 7, 9, 11, 8]\n",
      "[[2, 2, 5, 7, 9, 11, 8], [3, 6, 7, 8], [6, 9, 12, 15, 18, 21, 24, 27]]\n"
     ]
    }
   ],
   "source": [
    "lista = list(range(1, 12, 2))\n",
    "print(lista)\n",
    "lista.append(8)\n",
    "print(lista)\n",
    "print(lista + [2,3])\n",
    "print(len(lista))\n",
    "print(2 in lista)\n",
    "lista[:2] = [2, 2]\n",
    "print(lista)\n",
    "lista2 = [3, 6, 7, 8]\n",
    "lista3 = list(range(6, 30, 3))\n",
    "print([lista, lista2, lista3])"
   ]
  }
 ],
 "metadata": {
  "kernelspec": {
   "display_name": "Python 3",
   "language": "python",
   "name": "python3"
  },
  "language_info": {
   "codemirror_mode": {
    "name": "ipython",
    "version": 3
   },
   "file_extension": ".py",
   "mimetype": "text/x-python",
   "name": "python",
   "nbconvert_exporter": "python",
   "pygments_lexer": "ipython3",
   "version": "3.11.3"
  },
  "orig_nbformat": 4
 },
 "nbformat": 4,
 "nbformat_minor": 2
}
