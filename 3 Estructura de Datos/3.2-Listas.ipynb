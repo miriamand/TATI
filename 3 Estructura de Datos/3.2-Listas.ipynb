{
 "cells": [
  {
   "attachments": {},
   "cell_type": "markdown",
   "metadata": {},
   "source": [
    "# 3.2 Listas\n",
    "\n",
    "Son un tipo de dato compuesto de varios elementos, estos pueden ser caracteres, numericos o inclusive de otros tipos. Cada elemento de la lista es accesible gracias a su indice."
   ]
  },
  {
   "cell_type": "code",
   "execution_count": null,
   "metadata": {},
   "outputs": [],
   "source": []
  }
 ],
 "metadata": {
  "language_info": {
   "name": "python"
  },
  "orig_nbformat": 4
 },
 "nbformat": 4,
 "nbformat_minor": 2
}
