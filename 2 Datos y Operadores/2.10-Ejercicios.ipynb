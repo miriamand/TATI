{
 "cells": [
  {
   "attachments": {},
   "cell_type": "markdown",
   "metadata": {},
   "source": [
    "# 2.10 Ejercicios\n",
    "**1)**\n",
    "- Define una variable ***edad*** y Asignale un valor entero.\n",
    "- Muestra su valor en pantalla.\n",
    "- Define otra variable ***edad_cadena*** que contenga el valor de ***edad*** como cadena de caracteres.\n",
    "- Comprueba el tipo de la nueva variable.\n",
    "- Utiliza la variable ***edad*** que definiste previamente y calcula la edad que tendría en 2035."
   ]
  },
  {
   "cell_type": "code",
   "execution_count": 10,
   "metadata": {},
   "outputs": [
    {
     "name": "stdout",
     "output_type": "stream",
     "text": [
      "34\n",
      "<class 'str'>\n",
      "46\n"
     ]
    }
   ],
   "source": [
    "edad = 34\n",
    "\n",
    "print(edad)\n",
    "\n",
    "edad_cadena=str(edad)\n",
    "\n",
    "print(type(edad_cadena))\n",
    "\n",
    "print(edad.__add__(2035-2023)) \n",
    "\n"
   ]
  },
  {
   "attachments": {},
   "cell_type": "markdown",
   "metadata": {},
   "source": [
    "**2)**\n",
    "Al realizar una consulta en un registro, se ha recibido el nombre y apellido del alumno al revés, Que se puede hacer para obtener el siguiente mensaje\n",
    "\n",
    "*NOMBRE APELLIDO ha sacado un CALIFICACION*"
   ]
  },
  {
   "cell_type": "code",
   "execution_count": 16,
   "metadata": {},
   "outputs": [
    {
     "name": "stdout",
     "output_type": "stream",
     "text": [
      "10 ,Miriam Andrade\n",
      "Miriam Andrade ha sacado un 10\n"
     ]
    }
   ],
   "source": [
    "cadena = \"edardnA mairiM, 01\"\n",
    "\n",
    "cadena_inv = cadena [::-1]\n",
    "\n",
    "print(cadena_inv)\n",
    "\n",
    "print(cadena_inv[4::], \"ha sacado un\", cadena_inv[:2])"
   ]
  },
  {
   "attachments": {},
   "cell_type": "markdown",
   "metadata": {},
   "source": [
    "**3)**\n",
    "Utilizando operadores lógicos determina si una cadena de texto introducida por el usuario tiene una longitud mayor o igual a 3 y menor o igual a 12 (Mostrar true or False)"
   ]
  },
  {
   "cell_type": "code",
   "execution_count": 23,
   "metadata": {},
   "outputs": [
    {
     "data": {
      "text/plain": [
       "False"
      ]
     },
     "execution_count": 23,
     "metadata": {},
     "output_type": "execute_result"
    }
   ],
   "source": [
    "texto = input(\"Escribe algo\")\n",
    "\n",
    "\n",
    "texto.__len__() >= 3 and texto.__len__() <= 12\n",
    "\n",
    "\n",
    "\n"
   ]
  },
  {
   "attachments": {},
   "cell_type": "markdown",
   "metadata": {},
   "source": [
    "**4)** \n",
    "Realiza un programa que lea 2 números por medio del teclado y determine los siguientes aspectos (es suficiente con mostrar True or False)\n",
    "- Los 2 números son iguales\n",
    "- Los 2 números son diferentes\n",
    "- El primero es mayor al segundo \n",
    "- El segundo es mayor o igual que el primero"
   ]
  },
  {
   "cell_type": "code",
   "execution_count": 10,
   "metadata": {},
   "outputs": [
    {
     "name": "stdout",
     "output_type": "stream",
     "text": [
      "El primero es 3 y el segundo es 3\n",
      "los 2 numeros son iguales? True\n",
      "los 2 numeros son diferentes? False\n",
      "el primero es mayor que el segundo? False\n",
      "el segundo es mayor o igual que el primero? True\n"
     ]
    }
   ],
   "source": [
    "\n",
    "num_1=int(input(\"Escribe un número\"))\n",
    "num_2=int(input(\"Escribe otro número\"))\n",
    "\n",
    "print(\"El primero es\", num_1, \"y el segundo es\", num_2)\n",
    "\n",
    "print(\"los 2 números son iguales?\", num_1==num_2)\n",
    "print(\"los 2 números son diferentes?\",num_1!=num_2)\n",
    "print(\"el primero es mayor que el segundo?\",num_1>num_2)\n",
    "print(\"el segundo es mayor o igual que el primero?\",num_2>=num_1)\n"
   ]
  }
 ],
 "metadata": {
  "kernelspec": {
   "display_name": "Python 3",
   "language": "python",
   "name": "python3"
  },
  "language_info": {
   "codemirror_mode": {
    "name": "ipython",
    "version": 3
   },
   "file_extension": ".py",
   "mimetype": "text/x-python",
   "name": "python",
   "nbconvert_exporter": "python",
   "pygments_lexer": "ipython3",
   "version": "3.11.3"
  },
  "orig_nbformat": 4
 },
 "nbformat": 4,
 "nbformat_minor": 2
}
