{
 "cells": [
  {
   "attachments": {},
   "cell_type": "markdown",
   "metadata": {},
   "source": [
    "# 2.1 Variables\n",
    "\n",
    "Phyton es un lenguaje de tipado dinmico y no necesita que se declare el tipo de una variable. El nombre de cada variable debe cumplir con lo siguiente: \n",
    "- Solo puede incluir caracteres alfanume'ricos y gui'ones bajos (_)\n",
    "- No puede contener espacio en blanco\n",
    "- No puede empezar con un nu'mero\n",
    "- En phyton, el nombre de las variables es sensible a may'usculas y mini'usculas\n",
    "- Existen palabras reservadas que no pueden ser utilizadas para nombrar variables\n",
    "\n",
    "**El simbolo de igualdad (=) se utiliza para asignar valor a variables**\n",
    "\n",
    "El conjunto de un identidicador, operador y un valor se le conoce como EXPRESI'oN\n"
   ]
  },
  {
   "cell_type": "code",
   "execution_count": 3,
   "metadata": {},
   "outputs": [],
   "source": [
    "x = 30 \n",
    "nombre = 'Phyton para principiantes'"
   ]
  },
  {
   "cell_type": "code",
   "execution_count": 4,
   "metadata": {},
   "outputs": [
    {
     "data": {
      "text/plain": [
       "30"
      ]
     },
     "execution_count": 4,
     "metadata": {},
     "output_type": "execute_result"
    }
   ],
   "source": [
    "x"
   ]
  },
  {
   "cell_type": "code",
   "execution_count": 5,
   "metadata": {},
   "outputs": [
    {
     "data": {
      "text/plain": [
       "'Phyton para principiantes'"
      ]
     },
     "execution_count": 5,
     "metadata": {},
     "output_type": "execute_result"
    }
   ],
   "source": [
    "nombre"
   ]
  },
  {
   "attachments": {},
   "cell_type": "markdown",
   "metadata": {},
   "source": [
    "En phyton, los tipos primitivos son: n'umeros, cadenas de caracteres (string), booleanos, tuplas, listas y diccionarios."
   ]
  },
  {
   "attachments": {},
   "cell_type": "markdown",
   "metadata": {},
   "source": [
    "## M'etodos\n",
    "\n",
    "Son funciones de clase, es decir, que cada tipo de variable incluye unas funciones asociadas a ella desde su definici'on.\n"
   ]
  },
  {
   "cell_type": "code",
   "execution_count": 18,
   "metadata": {},
   "outputs": [
    {
     "data": {
      "text/plain": [
       "70"
      ]
     },
     "execution_count": 18,
     "metadata": {},
     "output_type": "execute_result"
    }
   ],
   "source": [
    "x.__add__(10)"
   ]
  },
  {
   "cell_type": "code",
   "execution_count": 14,
   "metadata": {},
   "outputs": [
    {
     "data": {
      "text/plain": [
       "{'uno': 30, 'dos': 40}"
      ]
     },
     "execution_count": 14,
     "metadata": {},
     "output_type": "execute_result"
    }
   ],
   "source": [
    "diccionario = {'uno' : x, 'dos' : x.__add__(10)}\n",
    "diccionario"
   ]
  },
  {
   "attachments": {},
   "cell_type": "markdown",
   "metadata": {},
   "source": [
    "Al ser una variable tipo string, colocando. title llama al valor "
   ]
  },
  {
   "cell_type": "code",
   "execution_count": 19,
   "metadata": {},
   "outputs": [
    {
     "name": "stdout",
     "output_type": "stream",
     "text": [
      "Phyton Para Principiantes cuesta 30 pesos \n",
      " y el otro libro 40 pesos \n"
     ]
    }
   ],
   "source": [
    "print(f\"{nombre.title()} cuesta {diccionario['uno']} pesos \\n y el otro libro {diccionario['dos']} pesos \")"
   ]
  },
  {
   "attachments": {},
   "cell_type": "markdown",
   "metadata": {},
   "source": [
    "Se pueden revisar los m'etodos disponibles de una variable utilizando la funci'on dir()"
   ]
  },
  {
   "cell_type": "code",
   "execution_count": null,
   "metadata": {},
   "outputs": [],
   "source": [
    "dir(x)"
   ]
  },
  {
   "attachments": {},
   "cell_type": "markdown",
   "metadata": {},
   "source": [
    "La funci'on help() nos muestra la informacion completa de cada variable"
   ]
  },
  {
   "cell_type": "code",
   "execution_count": null,
   "metadata": {},
   "outputs": [],
   "source": [
    "help(x)"
   ]
  }
 ],
 "metadata": {
  "kernelspec": {
   "display_name": "Python 3",
   "language": "python",
   "name": "python3"
  },
  "language_info": {
   "codemirror_mode": {
    "name": "ipython",
    "version": 3
   },
   "file_extension": ".py",
   "mimetype": "text/x-python",
   "name": "python",
   "nbconvert_exporter": "python",
   "pygments_lexer": "ipython3",
   "version": "3.11.2"
  },
  "orig_nbformat": 4
 },
 "nbformat": 4,
 "nbformat_minor": 2
}
