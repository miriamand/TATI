{
 "cells": [
  {
   "attachments": {},
   "cell_type": "markdown",
   "metadata": {},
   "source": [
    "# 2.3 Textos o Cadenas de Caracteres\n",
    "\n",
    "Secuencias de caracteres dentro de comillas. En Python las variables de **Strings** se pueden declarar indistintamente usando comillas simples (' ') o dobles (\" \")."
   ]
  },
  {
   "cell_type": "code",
   "execution_count": 2,
   "metadata": {},
   "outputs": [
    {
     "data": {
      "text/plain": [
       "'Esto es un texto'"
      ]
     },
     "execution_count": 2,
     "metadata": {},
     "output_type": "execute_result"
    }
   ],
   "source": [
    "\"Esto es un texto\""
   ]
  },
  {
   "cell_type": "code",
   "execution_count": 3,
   "metadata": {},
   "outputs": [
    {
     "data": {
      "text/plain": [
       "'Este es otro texto'"
      ]
     },
     "execution_count": 3,
     "metadata": {},
     "output_type": "execute_result"
    }
   ],
   "source": [
    "'Este es otro texto'"
   ]
  },
  {
   "cell_type": "code",
   "execution_count": 4,
   "metadata": {},
   "outputs": [
    {
     "data": {
      "text/plain": [
       "str"
      ]
     },
     "execution_count": 4,
     "metadata": {},
     "output_type": "execute_result"
    }
   ],
   "source": [
    "nombre = \"Miriam\"\n",
    "carrera = 'ISC'\n",
    "\n",
    "type(nombre)"
   ]
  },
  {
   "attachments": {},
   "cell_type": "markdown",
   "metadata": {},
   "source": [
    "## Print()\n",
    "Esta función permite mostrar en pantalla el valor de la expresión dentro de los parentesis () y editar su presentación con tabulaciones y saltos de línea."
   ]
  },
  {
   "cell_type": "code",
   "execution_count": 5,
   "metadata": {},
   "outputs": [
    {
     "name": "stdout",
     "output_type": "stream",
     "text": [
      "Una cadena \tseparada por una tabulaci'on.\n",
      "Una cadena en linea \n",
      "Otra cadena en linea\n"
     ]
    }
   ],
   "source": [
    "print(\"Una cadena \\tseparada por una tabulaci'on.\")\n",
    "\n",
    "print(\"Una cadena en linea \\nOtra cadena en linea\")"
   ]
  },
  {
   "attachments": {},
   "cell_type": "markdown",
   "metadata": {},
   "source": [
    "Para que esta función nos muestre una cadena sin procesar debemos indicarle que la cadena es de tipo crudo, agregando la letra r antes de abrir comillas"
   ]
  },
  {
   "cell_type": "code",
   "execution_count": 6,
   "metadata": {},
   "outputs": [
    {
     "name": "stdout",
     "output_type": "stream",
     "text": [
      "c\n",
      "ombre\n",
      "ombre_2\n",
      "c\\nombre\\nombre_2\n"
     ]
    }
   ],
   "source": [
    "print (\"c\\nombre\\nombre_2\")\n",
    "\n",
    "print(r\"c\\nombre\\nombre_2\")"
   ]
  },
  {
   "attachments": {},
   "cell_type": "markdown",
   "metadata": {},
   "source": [
    "Tambien podemos indicarle que deseamos mostrar el texto en varias líneas de diferente forma:"
   ]
  },
  {
   "cell_type": "code",
   "execution_count": 7,
   "metadata": {},
   "outputs": [
    {
     "name": "stdout",
     "output_type": "stream",
     "text": [
      "Línea 1\n",
      "Línea 2\n",
      "Línea 3\n",
      "y continuará...\n"
     ]
    }
   ],
   "source": [
    "print(\"\"\"Línea 1\n",
    "Línea 2\n",
    "Línea 3\n",
    "y continuará...\"\"\")"
   ]
  }
 ],
 "metadata": {
  "kernelspec": {
   "display_name": "Python 3",
   "language": "python",
   "name": "python3"
  },
  "language_info": {
   "codemirror_mode": {
    "name": "ipython",
    "version": 3
   },
   "file_extension": ".py",
   "mimetype": "text/x-python",
   "name": "python",
   "nbconvert_exporter": "python",
   "pygments_lexer": "ipython3",
   "version": "3.11.3"
  },
  "orig_nbformat": 4
 },
 "nbformat": 4,
 "nbformat_minor": 2
}
