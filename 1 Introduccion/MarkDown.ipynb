{
 "cells": [
  {
   "attachments": {},
   "cell_type": "markdown",
   "metadata": {},
   "source": [
    "# **Encabezados**\n",
    " Para indicar un título o subtítulo se utiliza el simbolo <strong>#</strong>. Entre mas de este simbolo tenga el txt, mas pequeño sera el tamaño del texto.\n",
    "# Título 1\n",
    "## Título 2\n",
    "### Título 3\n",
    "#### Título 4\n",
    "##### Título 5\n",
    "###### Título 6\n",
    "\n",
    "***También podemos usar \\<H1-H2>, es decir, las etiquetas HTML***\n",
    "\n",
    "<br>\n",
    "\n",
    "---"
   ]
  },
  {
   "attachments": {},
   "cell_type": "markdown",
   "metadata": {},
   "source": [
    "# **Bloques de Citas**\n",
    "Use el símbolo <strong>></strong> para realizar Bloques de Citas de txt\n",
    "\n",
    "> Un bloque <br> de citas\n",
    "\n",
    "***También podemos usar la etiqueta \\<blockquote> de HTML***\n",
    "\n",
    "<br>\n",
    "\n",
    "---"
   ]
  },
  {
   "attachments": {},
   "cell_type": "markdown",
   "metadata": {},
   "source": [
    "# **Sección de Código**\n",
    "\n",
    " Use el símbolo **\\`\\`\\`** al inicio y al final del bloque de código. Ponga el nombre del lenguaje en el que se va a codificar después de los 3 primeros símbolos.\n",
    "\n",
    "```Python\n",
    "# Este código no corre o compila\n",
    "str = \"Este es un bloque de código\"\n",
    "print(str)\n",
    "```\n",
    "##### ***También podemos usar la etiqueta \\<code> de HTML, sin embargo no tendrá la paleta de colores que usa el lenguaje.***\n",
    "\n",
    "<code>\n",
    "str = \"Este es un bloque de código\" <br>\n",
    "print(str)\n",
    "</code>\n",
    "\n",
    "<br><br>\n",
    "\n",
    "---"
   ]
  }
 ],
 "metadata": {
  "language_info": {
   "name": "python"
  },
  "orig_nbformat": 4
 },
 "nbformat": 4,
 "nbformat_minor": 2
}
